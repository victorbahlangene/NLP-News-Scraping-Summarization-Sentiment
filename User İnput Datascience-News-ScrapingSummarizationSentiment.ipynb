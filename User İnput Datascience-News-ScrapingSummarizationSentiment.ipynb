{
 "cells": [
  {
   "cell_type": "markdown",
   "metadata": {
    "id": "VkFL9F6lWBrq"
   },
   "source": [
    "# 1. Install and Import Baseline Dependencies"
   ]
  },
  {
   "cell_type": "code",
   "execution_count": null,
   "metadata": {
    "id": "zMpsTTAOXFFW"
   },
   "outputs": [],
   "source": [
    "!pip install transformers"
   ]
  },
  {
   "cell_type": "code",
   "execution_count": 2,
   "metadata": {
    "executionInfo": {
     "elapsed": 7238,
     "status": "ok",
     "timestamp": 1661039364424,
     "user": {
      "displayName": "Victor Bahlangene",
      "userId": "17538556812815495532"
     },
     "user_tz": -180
    },
    "id": "kIZ6QHd2XK6H"
   },
   "outputs": [],
   "source": [
    "from transformers import AutoTokenizer, AutoModelForSeq2SeqLM\n",
    "from transformers import pipeline\n",
    "\n",
    "from bs4 import BeautifulSoup\n",
    "import requests"
   ]
  },
  {
   "cell_type": "code",
   "execution_count": null,
   "metadata": {
    "id": "RZEKlppAXKyI"
   },
   "outputs": [],
   "source": []
  },
  {
   "cell_type": "markdown",
   "metadata": {
    "id": "T1rN47R9WBjA"
   },
   "source": [
    "# 2. Setup Summarization Model"
   ]
  },
  {
   "cell_type": "code",
   "execution_count": 3,
   "metadata": {
    "colab": {
     "base_uri": "https://localhost:8080/",
     "height": 17,
     "referenced_widgets": [
      "36b19b09bc9f4ffc8d770fc24e774a68",
      "62b87d61043943c5976f2b3f205a9b01",
      "dc2d2a8531f14d4892ea1ca10a1d7fd3",
      "5d656af6bb834d6e8d4d66f7766cbd2c",
      "966a54ea3ac4449299d802c433f7945d",
      "c808c6aa656548d7b5d9e7fca96811f4",
      "adbe02696286450d9fccab768ff62353",
      "e4e9288e30ec4683ab8c084d52933ad2",
      "27b78ecafb864f77ac152ad732cf290a",
      "a665e7b234d84c56a94745993e66dcd7",
      "fdbfec08cdaf46379354af8a2a93735b",
      "16250190013644a688ebb523d9fc99a7",
      "d896098cd7104c69bdca8e676809ef02",
      "719bae0abef749319c46aede0265c11b",
      "f2a031d4f35343d5af39f780670f71b0",
      "78b266acc821494592130c7d80a7e6a3",
      "b27004fe582146e9b0a36297cf0e5a7f",
      "d0f261910e974d53a6c878177056ee0d",
      "e75405a14d3e482f87c198bc9bdc9414",
      "53efd7d726ad4dd0935a6717a0bfb247",
      "ece27b2b71fe4ac882c69f9c62a76464",
      "621bd343ba9b4906bb2c5a625507ccb3",
      "f04f2f69c2bd47178f96539de7740133",
      "025cb29a1d6d43adaf8ab8448e4281d2",
      "9b5c7ea77cde409ba6f2a60d44c7a273",
      "6a4bc30a6e924d0b8dbb7bb040404e3a",
      "5a273201f4fc47b8b94cabc7b1e03ea7",
      "087702b776374f70a62dd9798b0a7e05",
      "2ae656be4df1467786e076357158d8bc",
      "79453dbe54cf4992999fc2163388581a",
      "4e5f4014c54e4932911a560dc5e10074",
      "c2e0b56c73934655b8c7d57b7ffbd3cc",
      "bc11d18221c943f5b896e295d27aa486",
      "baf0847b7231439eb6ec54a92c5f59e6",
      "ae12e45bc90c45959413f9ca932320a3",
      "faa7aca49f2544549c2e8ea67eda3401",
      "83cf24d94a6348c0b1e66135e11abdc9",
      "81a7a862b1a44bd9be7dea180452c605",
      "302deed8eb6a4a9bb893303849b4219b",
      "dfa654c7c6184bfd8f70011dd7934ca7",
      "173641529f904e67abade8b4c8e42230",
      "29405d610e6443658b20c76394e39ec6",
      "d6e51fc6ca134b2babd03d900bfc3763",
      "38e11bd763f244cab2694b792c7892dc",
      "bcd848e3265641c1a22fd6c8364d4bc5",
      "bf1f9d2c85d04520a662ca4843088d16",
      "3fed53afbb564006965e5f89402f7eb5",
      "3bba4e92e5684db68991e756db525787",
      "8f46209fa653416d9dec4c9715d112b6",
      "312ac4ca256d4f1085c42b9671bdbdc8",
      "eceaf3fc5d5d4a23b7f2d534782bf809",
      "015bae15b5ba4139b6f5d2824dbe38dd",
      "ac07a83723294bdfa631949cc6f601d6",
      "520c720a521c45cca11f444b37bf7d7c",
      "a105e247dda940ddb5503494ea2592d2"
     ]
    },
    "executionInfo": {
     "elapsed": 41566,
     "status": "ok",
     "timestamp": 1661039418006,
     "user": {
      "displayName": "Victor Bahlangene",
      "userId": "17538556812815495532"
     },
     "user_tz": -180
    },
    "id": "uGxJOM0EXYW_",
    "outputId": "fb697f95-92e1-43b2-faa3-569d3cfcb2e6"
   },
   "outputs": [
    {
     "data": {
      "application/json": {
       "ascii": false,
       "bar_format": null,
       "colour": null,
       "elapsed": 0.02906346321105957,
       "initial": 0,
       "n": 0,
       "ncols": null,
       "nrows": null,
       "postfix": null,
       "prefix": "Downloading config.json",
       "rate": null,
       "total": 1585,
       "unit": "B",
       "unit_divisor": 1024,
       "unit_scale": true
      },
      "application/vnd.jupyter.widget-view+json": {
       "model_id": "36b19b09bc9f4ffc8d770fc24e774a68",
       "version_major": 2,
       "version_minor": 0
      },
      "text/plain": [
       "Downloading config.json:   0%|          | 0.00/1.55k [00:00<?, ?B/s]"
      ]
     },
     "metadata": {},
     "output_type": "display_data"
    },
    {
     "data": {
      "application/json": {
       "ascii": false,
       "bar_format": null,
       "colour": null,
       "elapsed": 0.028461217880249023,
       "initial": 0,
       "n": 0,
       "ncols": null,
       "nrows": null,
       "postfix": null,
       "prefix": "Downloading vocab.json",
       "rate": null,
       "total": 898823,
       "unit": "B",
       "unit_divisor": 1024,
       "unit_scale": true
      },
      "application/vnd.jupyter.widget-view+json": {
       "model_id": "16250190013644a688ebb523d9fc99a7",
       "version_major": 2,
       "version_minor": 0
      },
      "text/plain": [
       "Downloading vocab.json:   0%|          | 0.00/878k [00:00<?, ?B/s]"
      ]
     },
     "metadata": {},
     "output_type": "display_data"
    },
    {
     "data": {
      "application/json": {
       "ascii": false,
       "bar_format": null,
       "colour": null,
       "elapsed": 0.021836042404174805,
       "initial": 0,
       "n": 0,
       "ncols": null,
       "nrows": null,
       "postfix": null,
       "prefix": "Downloading merges.txt",
       "rate": null,
       "total": 456318,
       "unit": "B",
       "unit_divisor": 1024,
       "unit_scale": true
      },
      "application/vnd.jupyter.widget-view+json": {
       "model_id": "f04f2f69c2bd47178f96539de7740133",
       "version_major": 2,
       "version_minor": 0
      },
      "text/plain": [
       "Downloading merges.txt:   0%|          | 0.00/446k [00:00<?, ?B/s]"
      ]
     },
     "metadata": {},
     "output_type": "display_data"
    },
    {
     "data": {
      "application/json": {
       "ascii": false,
       "bar_format": null,
       "colour": null,
       "elapsed": 0.048432350158691406,
       "initial": 0,
       "n": 0,
       "ncols": null,
       "nrows": null,
       "postfix": null,
       "prefix": "Downloading tokenizer.json",
       "rate": null,
       "total": 1355863,
       "unit": "B",
       "unit_divisor": 1024,
       "unit_scale": true
      },
      "application/vnd.jupyter.widget-view+json": {
       "model_id": "baf0847b7231439eb6ec54a92c5f59e6",
       "version_major": 2,
       "version_minor": 0
      },
      "text/plain": [
       "Downloading tokenizer.json:   0%|          | 0.00/1.29M [00:00<?, ?B/s]"
      ]
     },
     "metadata": {},
     "output_type": "display_data"
    },
    {
     "data": {
      "application/json": {
       "ascii": false,
       "bar_format": null,
       "colour": null,
       "elapsed": 0.0475926399230957,
       "initial": 0,
       "n": 0,
       "ncols": null,
       "nrows": null,
       "postfix": null,
       "prefix": "Downloading pytorch_model.bin",
       "rate": null,
       "total": 1625270765,
       "unit": "B",
       "unit_divisor": 1024,
       "unit_scale": true
      },
      "application/vnd.jupyter.widget-view+json": {
       "model_id": "bcd848e3265641c1a22fd6c8364d4bc5",
       "version_major": 2,
       "version_minor": 0
      },
      "text/plain": [
       "Downloading pytorch_model.bin:   0%|          | 0.00/1.51G [00:00<?, ?B/s]"
      ]
     },
     "metadata": {},
     "output_type": "display_data"
    }
   ],
   "source": [
    "model_name = \"facebook/bart-large-cnn\"\n",
    "tokenizer = AutoTokenizer.from_pretrained(model_name)\n",
    "model = AutoModelForSeq2SeqLM.from_pretrained(model_name)"
   ]
  },
  {
   "cell_type": "code",
   "execution_count": null,
   "metadata": {
    "id": "LXG8ayC-XYO-"
   },
   "outputs": [],
   "source": []
  },
  {
   "cell_type": "markdown",
   "metadata": {
    "id": "UgfTre-uWBTP"
   },
   "source": [
    "# 4. Building a News and Sentiment Pipeline"
   ]
  },
  {
   "cell_type": "code",
   "execution_count": 9,
   "metadata": {
    "colab": {
     "base_uri": "https://localhost:8080/"
    },
    "executionInfo": {
     "elapsed": 9322,
     "status": "ok",
     "timestamp": 1661039846525,
     "user": {
      "displayName": "Victor Bahlangene",
      "userId": "17538556812815495532"
     },
     "user_tz": -180
    },
    "id": "A13fwOljXaqZ",
    "outputId": "1d6d4462-2626-492c-a63e-6d932c498fb6"
   },
   "outputs": [
    {
     "name": "stdout",
     "output_type": "stream",
     "text": [
      "Please enter a Data Science topic of interest: fastai\n"
     ]
    }
   ],
   "source": [
    "# search options #\n",
    "monitored_tickers = []\n",
    "n = input(\"Please enter a Data Science topic of interest: \")\n",
    "monitored_tickers.append(n)"
   ]
  },
  {
   "cell_type": "code",
   "execution_count": 10,
   "metadata": {
    "colab": {
     "base_uri": "https://localhost:8080/"
    },
    "executionInfo": {
     "elapsed": 353,
     "status": "ok",
     "timestamp": 1661039850743,
     "user": {
      "displayName": "Victor Bahlangene",
      "userId": "17538556812815495532"
     },
     "user_tz": -180
    },
    "id": "mlwMA4voq84O",
    "outputId": "50950530-34ce-4b40-e931-44b164980faf"
   },
   "outputs": [
    {
     "data": {
      "text/plain": [
       "['fastai']"
      ]
     },
     "execution_count": 10,
     "metadata": {},
     "output_type": "execute_result"
    }
   ],
   "source": [
    "monitored_tickers"
   ]
  },
  {
   "cell_type": "markdown",
   "metadata": {
    "id": "rWnYJDx4WSJI"
   },
   "source": [
    "## 4.1. Search for Data science News using Medium website"
   ]
  },
  {
   "cell_type": "code",
   "execution_count": 11,
   "metadata": {
    "executionInfo": {
     "elapsed": 282,
     "status": "ok",
     "timestamp": 1661039894038,
     "user": {
      "displayName": "Victor Bahlangene",
      "userId": "17538556812815495532"
     },
     "user_tz": -180
    },
    "id": "W0LFOqOwXbcY"
   },
   "outputs": [],
   "source": [
    "def search_meduim_urls(monitored_tickers):\n",
    "    search_url = \"https://medium.com/tag/{}\".format(monitored_tickers)\n",
    "    r = requests.get(search_url)\n",
    "    soup = BeautifulSoup(r.text, 'html.parser')\n",
    "    # location where link to news is found(a tag with attribute \"aria-label\"= \"Post Preview Title\") #\n",
    "    atags = soup.find_all('a', attrs={\"aria-label\": \"Post Preview Title\"})\n",
    "    hrefs = ['https://medium.com'+link['href'] for link in atags]\n",
    "    return hrefs "
   ]
  },
  {
   "cell_type": "code",
   "execution_count": 12,
   "metadata": {
    "colab": {
     "base_uri": "https://localhost:8080/"
    },
    "executionInfo": {
     "elapsed": 342,
     "status": "ok",
     "timestamp": 1661039897053,
     "user": {
      "displayName": "Victor Bahlangene",
      "userId": "17538556812815495532"
     },
     "user_tz": -180
    },
    "id": "oSiFOgnMXbTg",
    "outputId": "18f3dec4-013b-48d2-e36b-1ca816e71a03"
   },
   "outputs": [
    {
     "data": {
      "text/plain": [
       "{'fastai': ['https://medium.com/@msubhaditya/improving-classification-by-visualizing-activations-2afbc73b1f8e?source=topics_v2---------0-84--------------------74cbbc5d_706c_4147_98be_eedae6a933b4-------17',\n",
       "  'https://medium.com/mlearning-ai/deep-learning-for-bear-image-classification-using-pytorch-fastai-duckduckgo-api-89bb7452c730?source=topics_v2---------1-84--------------------74cbbc5d_706c_4147_98be_eedae6a933b4-------17',\n",
       "  'https://medium.com/@santiago-paz/create-a-simple-simpson-character-classifier-with-fast-ai-and-google-collab-part-i-6dfec07e0075?source=topics_v2---------2-84--------------------74cbbc5d_706c_4147_98be_eedae6a933b4-------17',\n",
       "  'https://medium.com/@juancruzalriccortabarria/my-journey-using-fastai-part-ii-95436f8d0130?source=topics_v2---------3-84--------------------74cbbc5d_706c_4147_98be_eedae6a933b4-------17',\n",
       "  'https://medium.com/latinxinai/my-journey-using-fastai-part-i-13dfec6c4fb1?source=topics_v2---------4-84--------------------74cbbc5d_706c_4147_98be_eedae6a933b4-------17',\n",
       "  'https://medium.com/@l154359/walkwithfastai-computervision-1-3863e12f0437?source=topics_v2---------5-84--------------------74cbbc5d_706c_4147_98be_eedae6a933b4-------17',\n",
       "  'https://medium.com/@hothut2012/resnet18-to-predict-hand-sign-with-fastai-9c857fcfc505?source=topics_v2---------6-84--------------------74cbbc5d_706c_4147_98be_eedae6a933b4-------17',\n",
       "  'https://medium.com/@l154359/deep-learning-fast-ai-2022-series-image-classification-2-5f6cdfc21705?source=topics_v2---------7-84--------------------74cbbc5d_706c_4147_98be_eedae6a933b4-------17',\n",
       "  'https://medium.com/@l154359/deep-learning-module-ii-fast-ai-series-image-classification-1-d21be0198aa7?source=topics_v2---------8-84--------------------74cbbc5d_706c_4147_98be_eedae6a933b4-------17',\n",
       "  'https://medium.com/@JugsMa/kubernetes-for-beginners-455b8bad131b?source=topics_v2---------9-84--------------------74cbbc5d_706c_4147_98be_eedae6a933b4-------17']}"
      ]
     },
     "execution_count": 12,
     "metadata": {},
     "output_type": "execute_result"
    }
   ],
   "source": [
    "# make a dictionary {framework: link_to_article about the framework} #\n",
    "raw_urls = {framework:search_meduim_urls(framework) for framework in monitored_tickers}\n",
    "raw_urls"
   ]
  },
  {
   "cell_type": "markdown",
   "metadata": {
    "id": "_vm8WXNLWSBf"
   },
   "source": [
    "## 4.2. Strip out unwanted URLs"
   ]
  },
  {
   "cell_type": "code",
   "execution_count": null,
   "metadata": {
    "id": "6aySMTJ9Xcx2"
   },
   "outputs": [],
   "source": [
    "# not nessesary here #"
   ]
  },
  {
   "cell_type": "code",
   "execution_count": 13,
   "metadata": {
    "executionInfo": {
     "elapsed": 279,
     "status": "ok",
     "timestamp": 1661039908182,
     "user": {
      "displayName": "Victor Bahlangene",
      "userId": "17538556812815495532"
     },
     "user_tz": -180
    },
    "id": "F4qlXuKJXcn1"
   },
   "outputs": [],
   "source": [
    "cleaned_urls = raw_urls"
   ]
  },
  {
   "cell_type": "code",
   "execution_count": 14,
   "metadata": {
    "colab": {
     "base_uri": "https://localhost:8080/"
    },
    "executionInfo": {
     "elapsed": 446,
     "status": "ok",
     "timestamp": 1661039909855,
     "user": {
      "displayName": "Victor Bahlangene",
      "userId": "17538556812815495532"
     },
     "user_tz": -180
    },
    "id": "kBh5CqGwbF0W",
    "outputId": "3a7a052c-b68f-4d78-c202-c1ff9ec2ea06"
   },
   "outputs": [
    {
     "data": {
      "text/plain": [
       "{'fastai': ['https://medium.com/@msubhaditya/improving-classification-by-visualizing-activations-2afbc73b1f8e?source=topics_v2---------0-84--------------------74cbbc5d_706c_4147_98be_eedae6a933b4-------17',\n",
       "  'https://medium.com/mlearning-ai/deep-learning-for-bear-image-classification-using-pytorch-fastai-duckduckgo-api-89bb7452c730?source=topics_v2---------1-84--------------------74cbbc5d_706c_4147_98be_eedae6a933b4-------17',\n",
       "  'https://medium.com/@santiago-paz/create-a-simple-simpson-character-classifier-with-fast-ai-and-google-collab-part-i-6dfec07e0075?source=topics_v2---------2-84--------------------74cbbc5d_706c_4147_98be_eedae6a933b4-------17',\n",
       "  'https://medium.com/@juancruzalriccortabarria/my-journey-using-fastai-part-ii-95436f8d0130?source=topics_v2---------3-84--------------------74cbbc5d_706c_4147_98be_eedae6a933b4-------17',\n",
       "  'https://medium.com/latinxinai/my-journey-using-fastai-part-i-13dfec6c4fb1?source=topics_v2---------4-84--------------------74cbbc5d_706c_4147_98be_eedae6a933b4-------17',\n",
       "  'https://medium.com/@l154359/walkwithfastai-computervision-1-3863e12f0437?source=topics_v2---------5-84--------------------74cbbc5d_706c_4147_98be_eedae6a933b4-------17',\n",
       "  'https://medium.com/@hothut2012/resnet18-to-predict-hand-sign-with-fastai-9c857fcfc505?source=topics_v2---------6-84--------------------74cbbc5d_706c_4147_98be_eedae6a933b4-------17',\n",
       "  'https://medium.com/@l154359/deep-learning-fast-ai-2022-series-image-classification-2-5f6cdfc21705?source=topics_v2---------7-84--------------------74cbbc5d_706c_4147_98be_eedae6a933b4-------17',\n",
       "  'https://medium.com/@l154359/deep-learning-module-ii-fast-ai-series-image-classification-1-d21be0198aa7?source=topics_v2---------8-84--------------------74cbbc5d_706c_4147_98be_eedae6a933b4-------17',\n",
       "  'https://medium.com/@JugsMa/kubernetes-for-beginners-455b8bad131b?source=topics_v2---------9-84--------------------74cbbc5d_706c_4147_98be_eedae6a933b4-------17']}"
      ]
     },
     "execution_count": 14,
     "metadata": {},
     "output_type": "execute_result"
    }
   ],
   "source": [
    "cleaned_urls"
   ]
  },
  {
   "cell_type": "markdown",
   "metadata": {
    "id": "XfQM8yLgWR6I"
   },
   "source": [
    "## 4.3. Search and Scrape Cleaned URLs"
   ]
  },
  {
   "cell_type": "code",
   "execution_count": 15,
   "metadata": {
    "executionInfo": {
     "elapsed": 413,
     "status": "ok",
     "timestamp": 1661039941168,
     "user": {
      "displayName": "Victor Bahlangene",
      "userId": "17538556812815495532"
     },
     "user_tz": -180
    },
    "id": "ESj-7FVdXe3s"
   },
   "outputs": [],
   "source": [
    "def scrape_and_process(URLs):\n",
    "    ARTICLES = []\n",
    "    for url in URLs: \n",
    "        r = requests.get(url)\n",
    "        soup = BeautifulSoup(r.text, 'html.parser')\n",
    "        paragraphs = soup.find_all('p')\n",
    "        text = [paragraph.text for paragraph in paragraphs]\n",
    "        words = ' '.join(text).split(' ')[:350]\n",
    "        ARTICLE = ' '.join(words)\n",
    "        ARTICLES.append(ARTICLE)\n",
    "    return ARTICLES"
   ]
  },
  {
   "cell_type": "code",
   "execution_count": 16,
   "metadata": {
    "colab": {
     "base_uri": "https://localhost:8080/"
    },
    "executionInfo": {
     "elapsed": 7564,
     "status": "ok",
     "timestamp": 1661039950810,
     "user": {
      "displayName": "Victor Bahlangene",
      "userId": "17538556812815495532"
     },
     "user_tz": -180
    },
    "id": "2HAcnhpaXewC",
    "outputId": "c3e2ec4c-0cfd-4311-b51d-261ef2dc5407"
   },
   "outputs": [
    {
     "data": {
      "text/plain": [
       "{'fastai': ['Aug 19 Note: This is a slightly advanced article. If you are not comfortable with training neural networks, this is probably not for you yet. Start here instead. · Intro ∘ The Objective and Data ∘ Code ∘ Training ∘ Hooks ∘ Plotting Activations ∘ What’s next? ∘ Fin So you want to train a Neural Network to classify images. Woah. That’s awesome! How well did it do? Did you get a good score? Oh? You want to do better? I hear you. What if you could see what the network sees to make the choice? That would help understand how to make it perform better right? Read on! A few years ago, a paper titled “Grad-CAM: Visual Explanations from Deep Networks via Gradient-based Localization” by Selvaraju et al. talked about how we could visually see the activation maps of a trained CNN by looking at the gradients in the final layer. This post will show you how to use that for your own needs. Note: We will be using PyTorch and the fast.ai library. But the concepts stay the same, so you should be able to use it in any other library. Before we can go to the code, what exactly are we trying to achieve? In short, we want to first train a network such as the “resnet34” architecture on any kind of data. In today’s example, I will be using the Fish Dataset. This dataset has 9 types of sea creatures. You can of course, use any other image based classification data that you want. Knowing how the Dataset is structured is essential, so let’s see that. Once the training is completed, we want to be able to give the trained network any image for inference and then have it spit out a visual heat map of exactly what it saw in the image. The brighter the color, the more the network focused on that particular spot to make it’s decision. Have a look at the below example. In this image, we can see a yellow border around the fish. (Apologies if it is a disturbing image.',\n",
       "  \"MLearning.ai Aug 8 Let’s install environment in google colab. Check my ipynb file here! By default Resize crops the images to fit a square shape of the size requested, using the full width or height. This can result in losing some important details. bears = bears.new(item_tfms=Resize(128, ResizeMethod.Pad, pad_mode='zeros') bears = bears.new(item_tfms=Resize(128, ResizeMethod.Squish) Instead, what we normally do in practice is to randomly select part of the image, and crop to just that part. On each epoch (which is one complete pass through all of our images in the dataset) we randomly select a different part of each image. This means that our model can learn to focus on, and recognize, different features in our images. It also reflects how images work in the real world: different photos of the same thing may be framed in slightly different ways. item_tfms=RandomResizedCrop(128, min_scale=0.3) batch_tfms=aug_transforms(mult=2) let's see whether the mistakes the model is making are mainly thinking that grizzlies are teddies (that would be bad for safety!), or that grizzlies are black bears, or something else. It's helpful to see where exactly our errors are occurring, to see whether they're due to a dataset problem (e.g., images that aren't bears at all, or are labeled incorrectly, etc.), or a model problem (perhaps it isn't handling images taken with unusual lighting, or from a different angle, etc.). To do this, we can sort our images by their loss. The loss is a number that is higher if the model is incorrect (especially if it's also confident of its incorrect answer), or if it's correct, but not confident of its correct answer. The intuitive approach to doing data cleaning is to do it before you train a model. But as you've seen in this case, a model can actually help you find data issues more quickly and easily. So, we normally prefer to train a quick and simple model first, and then use it to help us with data cleaning. fastai includes a handy GUI for data cleaning called ImageClassifierCleaner that allows you to choose a category and the training versus validation set and view the\",\n",
       "  'Aug 5 When you’re starting in Machine Learning (like myself!), one of the most basic tools you can create is a simple classifier. In this case, we’re gonna create a classification model that, given an image, will tell you which character of The Simpsons is, and a metric on how sure the model is that it’s the correct answer. As we know, models are useless without data. So our first step will be to get the correct images and labels. For this step, I’m not going to use any hand-crafted dataset. Instead, I will download around 200 images I found on the Internet for each character I want to predict. We can use the powerful DuckDuckGo Search API to do this process. It’s free and you don’t need any token authorization at the moment I’m writing this article. (Thanks to Joe Dockrill and forums.fast.ai). Of course, first we need to import all the correct packages in a new notebook from Google Colab. To create a new notebook, simply enter to Google Collab site and click on New Notebook. Once we have our first cell, we are now ready to import the necessary tools we will need: It’s possible that Google asks you for a token code, you can get that simply by clicking the URL that Google provides you in the same result cell. Now, we need to define which characters are we gonna predict. Let’s keep it simple and predict only the family members. (It’s not a big deal to add more characters to predict later, anyways!). Here, we are simply creating an array with the names of the characters we want to predict. Now let’s create a folder to save the images inside: And finally, let’s create a function we can use to actually download the images and call it immediately after: In our first loop, for example, it will return image results from the search term ‘marge simpson’ in Bing, and then download all those images in /the_simpsons/marge/ directory. If everything goes well, we should see in our Google Collab files inspector, the folders with the images',\n",
       "  'Jul 30 In this entry, we will try to get better results than what we got on the first model. First of all, we are going to use google colab. So please follow the next link to create one. colab.research.google.com Now we can start importing all the necessary packages that we will use. Important please make sure that you first install the timm library so that you can avoid future problems when running fastai packages. We are going to continue with the same problem as before. We are going to try and predict whether a forest is on fire or not. To do this first we need images. We can get those using fastai “search_images_ddg” and the “download_images” functions as follows: We are going to loop for each search item and download all the necessary images. Once we got all the images we are going to check for corrupted ones and delete them so that our model does not crush. Now we have the images we need to create our DataBlock The inputs are going to be images “ImageBlock” and the outputs are going to be categories “CategoryBlock” We can get the items we need by using “get_image_files” We can specify a splitter, this will retrieve some of the data to use for validation purposes. In this case, we are using 20% of the data for validation. “get_y” getting the label is as easy as just calling the parent_label function. This will get the labels we created when we downloaded the images: “forest” and “forest in fire” We have got our dataloaders. Now we need to look for a “pre-trained” model to use in our learner. I really like using “convnext” they are really reliable and quite light. You can choose anyone you like. However, I recommend the “22k” models that got 22k categories trained on. We are going to use the “convnext_small_in22k”. We are ready to create our learner. The “.to_fp16()” just use less memory so that the model is lighter. We are going to look for a learning rate so that out model can train without problems. Fastai',\n",
       "  \"LatinXinAI Jul 22 On this journey, we will look at FastAI and how we can create powerful Machine Learning models with only a laptop and our brain. A huge thanks to Jeremy Howards for inspiring me to document my journey so that others can also be inspired. colab.research.google.com Create a new notebook in Google Colab import the necessary libraries We need images to train our model. So we are going to download images of a forest and a forest in fire so that we can help the environment and predict whether a forest is in fire or not. With only a few lines of code, we can get the images from the internet with: Then with the image URLs, we can download them into our respected folders with: Moreover, we transform the images to be all the same size (we need to do this so that the inputs of our model are always the same) and squish them. There are a lot of different transformations you can use. Please feel free to use any you like. Finally, we check for broken images and get rid of them: Now let's create our DataBlock and dataloaders The inputs are going to be images “ImageBlock” and the outputs are going to be categories “CategoryBlock” We can get the items we need by using “get_image_files” We can specify a splitter, this will retrieve some of the data to use for validation purposes. In this case, we are using 20% of the data for validation. “get_y” getting the label is as easy as just calling the parent_label function. This will get the labels we created when we downloaded the images Finally, we create a transformation for each input using: Now that we have our DataBlock we need to create batches of our data so that we can feed our model many examples at a time. So that's why we use dataloaders. We simply pass the “path” of where the images are. We can check out dataloaders and see what’s inside: Now we are ready to create our learner. A learner’s just an object that has\",\n",
       "  'Jul 18 Reqs:1. Google Colab or Paperspace2. Fastai Environment Google Colab gives a free GPU so as paper space Goals: We are combining the First two lessons of Practical Deep Learning by Jeremy Howard 2. Import the libraries A contained environment to run scripts within localised area. It is more interactive we can see output for each cell along -- -- Researcher at UCL, UOV Love podcasts or audiobooks? Learn on the go with our new app. Khuyen Tran in Towards Data Science Ryan Sander in Towards Data Science Paul Xiong CSS MCQs Jose Antonio Ribeiro Neto (Zezinho) in XNEWDATA Philipp Dave W Shanahan Arkadiusz Modzelewski AboutHelpTermsPrivacy Researcher at UCL, UOV Britney in The 131217net Sarah Marciano Shivaraj karki Mohammad Faizan Help Status Writers Blog Careers Privacy Terms About Knowable',\n",
       "  'Jul 16 ภาษามือเป็นสัญลักษณ์ การเคลื่อนไหว เพื่อช่วยในการสื่อสารของผู้สื่อภาษาสัญลักษณ์ส่วนใหญ่มักใช้ในกลุ่มผู้พิการทางหู ถ้าหากคุณต้องสื่อสาร video call กับผู้พิการทางหู คุณอยากจะเข้าใจโดยไม่มีความรู้ภาษามือไหม? ภาพ(Image) fastai คืออะไร? fastai เป็น open-source library สร้างมาเพื่อให้ deep learning เป็นเรื่องง่ายสำหรับทุกคนผ่าน หลักสูตร, library, การวิจัย และ community ของ fastai ในบทความนี้เราจะใช้ library ของ fastai ในการ predict ภาษามือที่เป็นตัวอักษรภาษาอังกฤษ เพื่อให้ code ไม่ยากและได้ผลลัพธ์ที่ดี Resnet18 คืออะไร? Resnet18 หรือ Residual neural network เป็นโครงข่ายประสาทเทียมที่ได้รับการ train มากกว่า 1,000,000 ภาพ จากฐานข้อมูลของ ImageNet มี layers 18 ชั้นที่อยู่ในสถาปัตยกรรม ซึ่งมีประสิทธิภาพมาก ๆ ในการจัดหมวดหมู่รูปภาพและสามารถจำแนกรูปภาพ 1,000 object Dataset โดย Dataset ที่จะใช้นั้นนำมาจาก kaggle เป็นรูปภาพ jpeg เป็นภาษามือแบบอเมริกันที่แบ่งคลาสทั้งหมด 24 คลาส(ยกเว้น J และ Z เนื่องจากต้องใช้การเคลื่อนไหว)รูปทั้งหมดจะเป็นสีเทาขนาด 28*28 pixels มีช่วงระหว่าง 0–255 Tool ที่ใช้ ในบทความนี้เราจะใช้ colab เพื่อความง่ายในการแสดง outputเริ่มจากการ import library และ datahttps://colab.research.google.com/drive/11wlcTb84gWOIwi8CrOoN1may1X2rN4z1?usp=sharing Dataloader ทำ Dataloader โหลดข้อมูลออกมาเป็น Batch สำหรับใส่เข้าไปใน model เนื่องจากรูปมีขนาดเพียงแค่ 28*28 pixel เราจึง Resize ให้ใหญ่ขึ้นเพื่อความง่ายในการดูรูป จากนั้นแสดง batch ออกมา 15 รูปเพื่อดูตัวอย่าง ใน Dataset มีการแบ่ง class ไว้ให้เรียบร้อยแล้ว แบ่ง Dataset การเรียนรู้จะดีแค่ไหนขึ้นอยู่กับจำนวน และความหลากหลายของข้อมูล เราจำเป็นต้องแบ่งชุดข้อมูลออกเป็น Training set, Validation, Test -Training set ตัวอย่างของข้อมูลที่จะใส่ใน model -Validation set ใช้จูนพารามิเตอร์ เช่น learning rate และ epochs โดยนำ Training set มาทดสอบกับชุดข้อมูลของ validation set และปรับจูนพารามิเตอร์เพื่อให้ model ทำงานได้ดีขึ้น -Test set ใช้ทดสอบ model ว่าได้เรียนรู้ และสามารถทำนายได้ดีแค่ไหนกับข้อมูลที่ไม่เคยเห็นมาก่อน ใน DataBlock เราได้กำหนด valid_pct = 0.2 และ seed = 42คราวนี้เราจะมาดูจำนวน Training dataset และ validation dataset ทั้งหมด เราจะมี Training set ทั้งหมด 27,697 รูป (ผมดึงรูปออกมา 6 รูปเพื่อใช้ในการ Test) และ validation set ทั้งหมด 6,924 รูป Training เราจะ Train ด้วย resnet18 จูนแค่ 2 epoch สังเกตว่าจูนเพียงแค่ 2 รอบแต่ได้ accuracy ถึง 1.0 หรือ ความแม่นยำอยู่ที่ 100% และใช้เวลาเพียงไม่กี่นาที ด้วย fastaiเราลองเปรียบเทียบ การทำนาย กับความเป็นจริงว่าตรงกันหรือไม่ จะเห็นว่าตัว model ทำนายถูกทั้งหมด Test ผมได้แยกรูปภาพไว้ 6 รูปสำหรับตัว Test ผม import Image มาสำหรับดูรูปภาพ หลังจากนั้นลองเปิดรูป image ที่เราจะ test และทำการใช้ model ทำนายว่าสัญลักษณ์นี้หมายถึงตัวอักษรใด โดยในที่นี้จะเป็นตัว G model ทำนายว่าเป็น TensorBase(6) หรือก็คือ ตัวอักษร G อยู่ที่ 9.9995e-01 หรือประมาณ 99% G เป็นอักษรตัวที่ 7 แต่ทำไมถึงเป็น TensorBase(6) เราลองมาดู vocab กัน จะเห็นว่า ถ้านับปกติ G ก็เป็นตัวอักษรที่ 7 ตามปกติ แต่ใน ภาษา python จะนับตัวแรก หรือ A เป็นจำแหน่งที่ 0 ลอง Test ตัว B ดูบ้าง model ทำว่าเป็น B ถึง 9.9999e-01 หรือ ประมาณ 99% ลอง Test ดูอีกสักตัว สัญลักษณ์นี้คือตัวอักษร W model ทำว่าเป็น W ถึง 9.9999e-01 หรือ 100% หลังจากการที่ได้ Test แล้ว ผลลัพธ์ออกมาเป็นที่น่าพึงพอใจ เราสามารถ save model นำไปต่อยอดได้ หวังว่าผู้อ่านทุกท่านจะได้รับประโยชน์กับบทความนี้ครับ Source: https://colab.research.google.com/drive/11wlcTb84gWOIwi8CrOoN1may1X2rN4z1?usp=sharing#scrollTo=ZVzqqRCyFK3l Credit:01c-image-classification-mnist-resnet18moderation_v1(resnet18)DatasetภาษามือVision data -- -- Love podcasts or audiobooks? Learn on the go with our new app. AboutHelpTermsPrivacy Michael C.H. Wang in GLInB David BECK Alterna CX Jan Degener Help Status Writers Blog Careers Privacy Terms About Knowable',\n",
       "  \"Jul 14 This tutorial is part 2 of the previous writing. We will be discussing the following topics mentioned below We will directly touch on these topics with examples. If you haven't read the previous article I would suggest going to read that first A loss function is used for categorized labeling. It is the default selection of the fast.ai library for classifiers. Before going to more explanation of the loss function let's have a look at our data. Let's have a look at the data first. Write the following code. Let's print the value of y. Each batch has a size of 64 by default output The output shows that in this case, we have 64 values in Tensor. Tensor is considered as an array but in GPU. So don't worry about the keyword. As the highest value is 36 in that case. So possibly we can have 37 types of pet breed. Now it's time to see the activations. Activations are predictions of the last layer of the neural network. Fastai provides the following code learn.get_preds() to view the predictions shown below. There are two possibilities for using this function. As in our case, we have a batch and we will pass it as a list. It will return activations by default as we are ignoring targets because we already have them. we will use the “_” keyword. Output Activations are always between 0–1 otherwise we can specify the range. As we have actual 37 possibilities between 0–1. It will add up to 1. Pred[0] means the prediction of the 0th indexed image in the batch. Output The explanation is shown below and also we will see how we can transform these values into actual labels. Softmax is one of the activation functions it is used when we have more than 2 classes — similar to a sigmoid function Let plot the sigmoid function with the input range between -4 to 4 The plot is shown below applying sigmoid on the last layer of neural network — returns 0 or 1. But in the case of 37 categories,\",\n",
       "  \"Jul 13 In this tutorial we are going to deep dive into image classification may be deep learning practitioners may not know how exactly the model is working. sometimes you need your model to work reliably and correct its details which requires you to look inside your neural network MODEL PROBLEM -> LOOKS INSIDE NETWORK -> FIGURE OUT -> FIX IT We are going to deep dive into the this tutorial is doing the following The above concepts will be revealed step by step. we are not going to discuss DOG-CAT Classifier instead PET Breed Classification is more appropriate. In the real-life we have the following workflow Develop dataset understanding -> Extraction the Data-> Visualisation We will be going to see the intermediate steps in this workflow and how to do the modeling and testing Open Your Notebook Type the following The dataset have different kind of formats which can be described in figure below The above cell of code basically unzips the file from the link of pet and saves directories path to variable path. If you list down the paths by doing this Output : (#3: means number of directories )[Path(“annotations”), Path(“images”), Path(“models”)]: so three directories annotations images and models contain the description of images, the actual image in jpeg format, and models respectively. The main difference between localization and classification is: In classification, we get to know what is the object instead of where localization addresses. In our tutorial, we are ignoring annotations because we are not addressing the localization problem In the same way, we are going to see what is inside the following is the outputwhich shows images in jpg format and there are total of 7394 images Output :(#7394) [Path('images/great_pyrenees_173.jpg'),Path('images/wheaten_terrier_46.jpg'),Path('images/Ragdoll_262.jpg'),Path('images/german_shorthaired_3.jpg'),Path('images/american_bulldog_196.jpg'),Path('images/boxer_188.jpg'),Path('images/staffordshire_bull_terrier_173.jpg'),Path('images/basset_hound_71.jpg'),Path('images/staffordshire_bull_terrier_37.jpg'),Path('images/yorkshire_terrier_18.jpg')...] The above file which is returned is not list-type but a collection object of the class called L which is the advanced version of Python List with added common operations. Following are the features : Now we are going to label our data as we can see the information about the breed is inside the filename and each filename has a specific format so\",\n",
       "  \"Jun 21 Every service is a microservice these days. And, each service stays in the containerization system (eg: Docker) as a container. The way to orchestrate your microservices is by using Kubernetes. Docker-Compose works well for orchestration creating a replica or multi-nodes is tedious and not much worth it using swarm. Therefore, we stick with Kubernetes for this post. Since this is a beginner's post, we will stick to the basic requirements. Kubernetes clusters can be made in cloud infrastructures or in premise bare metal machines. For simplicity, we will be using the cloud. Kubernetes requires installing kubectl to connect to the cluster and do any sorts of operations. Once the kubctl is installed and the cluster is created in the cloud, we are required to connect the cluster using kubctl with the config YAML file. Installing Kubctl and connecting the Kube cluster: Before writing any manifest files, structure your directory and the following files for a simple app, as shown below: First, create a very basic python app in Fastapi. The app resides under the app directory. The main.py file looks like this, with two endpoints. Then, create a docker file to run this app as the container. After that is complete, prepare the python dependencies for the simple app in the requirements.txt file with two libraries (fastapi python based web framework and uvicorn, async python web server). You must have a docker hub account to push this docker image and pull this docker image later. However, you could use any other registry such as ECR, ACR, etc. Build this Dockerfile locally first and then tag it onto the docker-hub name and push. But, you will require to log in to the docker hub through the terminal using your docker login and input your username and password. After you push the image you should be able to see the image on your docker-hub account. Finally, you will be able to work with the Kubernetes manifest files after the above preparation is done. This is when you should start with the deployment.yaml manifest for the app. Then with the service.yaml\"]}"
      ]
     },
     "execution_count": 16,
     "metadata": {},
     "output_type": "execute_result"
    }
   ],
   "source": [
    "articles = {ticker:scrape_and_process(cleaned_urls[ticker]) for ticker in monitored_tickers}\n",
    "articles"
   ]
  },
  {
   "cell_type": "code",
   "execution_count": 18,
   "metadata": {
    "colab": {
     "base_uri": "https://localhost:8080/",
     "height": 144
    },
    "executionInfo": {
     "elapsed": 369,
     "status": "ok",
     "timestamp": 1661039975158,
     "user": {
      "displayName": "Victor Bahlangene",
      "userId": "17538556812815495532"
     },
     "user_tz": -180
    },
    "id": "ReOtrPZGbu2M",
    "outputId": "cad19a67-7c6b-4e5f-990f-0b350ecbd2a8"
   },
   "outputs": [
    {
     "data": {
      "application/vnd.google.colaboratory.intrinsic+json": {
       "type": "string"
      },
      "text/plain": [
       "'Aug 5 When you’re starting in Machine Learning (like myself!), one of the most basic tools you can create is a simple classifier. In this case, we’re gonna create a classification model that, given an image, will tell you which character of The Simpsons is, and a metric on how sure the model is that it’s the correct answer. As we know, models are useless without data. So our first step will be to get the correct images and labels. For this step, I’m not going to use any hand-crafted dataset. Instead, I will download around 200 images I found on the Internet for each character I want to predict. We can use the powerful DuckDuckGo Search API to do this process. It’s free and you don’t need any token authorization at the moment I’m writing this article. (Thanks to Joe Dockrill and forums.fast.ai). Of course, first we need to import all the correct packages in a new notebook from Google Colab. To create a new notebook, simply enter to Google Collab site and click on New Notebook. Once we have our first cell, we are now ready to import the necessary tools we will need: It’s possible that Google asks you for a token code, you can get that simply by clicking the URL that Google provides you in the same result cell. Now, we need to define which characters are we gonna predict. Let’s keep it simple and predict only the family members. (It’s not a big deal to add more characters to predict later, anyways!). Here, we are simply creating an array with the names of the characters we want to predict. Now let’s create a folder to save the images inside: And finally, let’s create a function we can use to actually download the images and call it immediately after: In our first loop, for example, it will return image results from the search term ‘marge simpson’ in Bing, and then download all those images in /the_simpsons/marge/ directory. If everything goes well, we should see in our Google Collab files inspector, the folders with the images'"
      ]
     },
     "execution_count": 18,
     "metadata": {},
     "output_type": "execute_result"
    }
   ],
   "source": [
    "articles[\"fastai\"][2]"
   ]
  },
  {
   "cell_type": "code",
   "execution_count": 19,
   "metadata": {
    "colab": {
     "base_uri": "https://localhost:8080/",
     "height": 125
    },
    "executionInfo": {
     "elapsed": 361,
     "status": "ok",
     "timestamp": 1661039980919,
     "user": {
      "displayName": "Victor Bahlangene",
      "userId": "17538556812815495532"
     },
     "user_tz": -180
    },
    "id": "4-vmDvurbuWA",
    "outputId": "764f6117-19b7-47ec-d92b-c81b104a21f3"
   },
   "outputs": [
    {
     "data": {
      "application/vnd.google.colaboratory.intrinsic+json": {
       "type": "string"
      },
      "text/plain": [
       "'Jul 18 Reqs:1. Google Colab or Paperspace2. Fastai Environment Google Colab gives a free GPU so as paper space Goals: We are combining the First two lessons of Practical Deep Learning by Jeremy Howard 2. Import the libraries A contained environment to run scripts within localised area. It is more interactive we can see output for each cell along -- -- Researcher at UCL, UOV Love podcasts or audiobooks? Learn on the go with our new app. Khuyen Tran in Towards Data Science Ryan Sander in Towards Data Science Paul Xiong CSS MCQs Jose Antonio Ribeiro Neto (Zezinho) in XNEWDATA Philipp Dave W Shanahan Arkadiusz Modzelewski AboutHelpTermsPrivacy Researcher at UCL, UOV Britney in The 131217net Sarah Marciano Shivaraj karki Mohammad Faizan Help Status Writers Blog Careers Privacy Terms About Knowable'"
      ]
     },
     "execution_count": 19,
     "metadata": {},
     "output_type": "execute_result"
    }
   ],
   "source": [
    "articles[\"fastai\"][5]"
   ]
  },
  {
   "cell_type": "markdown",
   "metadata": {
    "id": "hjmu2Y40WA-t"
   },
   "source": [
    "## 4.4. Summarise all Articles"
   ]
  },
  {
   "cell_type": "code",
   "execution_count": 20,
   "metadata": {
    "executionInfo": {
     "elapsed": 292,
     "status": "ok",
     "timestamp": 1661040095858,
     "user": {
      "displayName": "Victor Bahlangene",
      "userId": "17538556812815495532"
     },
     "user_tz": -180
    },
    "id": "Ppi712awXf0S"
   },
   "outputs": [],
   "source": [
    "def summarize(articles):\n",
    "    summaries = []\n",
    "    for article in articles:\n",
    "        input_ids = tokenizer.encode(article, return_tensors='pt',max_length=512, truncation=True)\n",
    "        output = model.generate(input_ids, max_length=56, num_beams=5, early_stopping=True)\n",
    "        summary = tokenizer.decode(output[0], skip_special_tokens=True)\n",
    "        summaries.append(summary)\n",
    "    return summaries"
   ]
  },
  {
   "cell_type": "code",
   "execution_count": 21,
   "metadata": {
    "colab": {
     "base_uri": "https://localhost:8080/"
    },
    "executionInfo": {
     "elapsed": 148685,
     "status": "ok",
     "timestamp": 1661040251009,
     "user": {
      "displayName": "Victor Bahlangene",
      "userId": "17538556812815495532"
     },
     "user_tz": -180
    },
    "id": "u4qtuXQXXfqo",
    "outputId": "424b7710-3409-4284-a342-318908d68737"
   },
   "outputs": [
    {
     "data": {
      "text/plain": [
       "{'fastai': ['A few years ago, a paper titled “Grad-CAM: Visual Explanations from Deep Networks via Gradient-based Localization” by Selvaraju et al. talked about how we could visually see the activation maps of a trained CNN.',\n",
       "  \"MLearning.ai lets you train a model and then use it to help with data cleaning. It's helpful to see where exactly our errors are occurring, to see whether they're due to a dataset problem (e.g., images that aren't bears at\",\n",
       "  'In this article, we’re gonna create a classification model that, given an image, will tell you which character of The Simpsons is. As we know, models are useless without data. So our first step will be to get the correct images and labels.',\n",
       "  'In this entry, we will try to get better results than what we got on the first model. We are going to try and predict whether a forest is on fire or not. To do this first we need images. We can get those using fastai “',\n",
       "  'We need images to train our model. So we are going to download images of a forest and a forest in fire so that we can help the environment and predict whether a forest is in fire or not. With only a few lines of code, we can get the',\n",
       "  'We are combining the First two lessons of Practical Deep Learning by Jeremy Howard 2. Import the libraries A contained environment to run scripts within localised area. It is more interactive we can see output for each cell along -- -- Researcher at UCL, UOV',\n",
       "  'Jul 16   การ คลื  \\xa0‘Open-source library’   ‘Deep learning’ ‘Fastai’ and ‘open-source video call’',\n",
       "  'This tutorial is part 2 of the previous writing. We will be discussing the following topics mentioned below We will directly touch on these topics with examples. A loss function is used for categorized labeling. It is the default selection of the fast.ai library for classifiers.',\n",
       "  'In this tutorial we are going to deep dive into image classification. The above concepts will be revealed step by step. We are not going to discuss DOG-CAT Classifier instead PET Breed Classification is more appropriate. In the real-life we have the following',\n",
       "  'Kubernetes is the way to orchestrate your microservices. Kubernetes clusters can be made in cloud infrastructures or in premise bare metal machines. For simplicity, we will be using the cloud. First, create a very basic python app']}"
      ]
     },
     "execution_count": 21,
     "metadata": {},
     "output_type": "execute_result"
    }
   ],
   "source": [
    "# takes 3 mins to execute #\n",
    "summaries = {ticker:summarize(articles[ticker]) for ticker in monitored_tickers}\n",
    "summaries"
   ]
  },
  {
   "cell_type": "code",
   "execution_count": 22,
   "metadata": {
    "colab": {
     "base_uri": "https://localhost:8080/"
    },
    "executionInfo": {
     "elapsed": 284,
     "status": "ok",
     "timestamp": 1661040373516,
     "user": {
      "displayName": "Victor Bahlangene",
      "userId": "17538556812815495532"
     },
     "user_tz": -180
    },
    "id": "RLYuWHQYcsFz",
    "outputId": "4aa73a8f-8509-4823-d623-92a86ef4c931"
   },
   "outputs": [
    {
     "data": {
      "text/plain": [
       "['A few years ago, a paper titled “Grad-CAM: Visual Explanations from Deep Networks via Gradient-based Localization” by Selvaraju et al. talked about how we could visually see the activation maps of a trained CNN.',\n",
       " \"MLearning.ai lets you train a model and then use it to help with data cleaning. It's helpful to see where exactly our errors are occurring, to see whether they're due to a dataset problem (e.g., images that aren't bears at\",\n",
       " 'In this article, we’re gonna create a classification model that, given an image, will tell you which character of The Simpsons is. As we know, models are useless without data. So our first step will be to get the correct images and labels.',\n",
       " 'In this entry, we will try to get better results than what we got on the first model. We are going to try and predict whether a forest is on fire or not. To do this first we need images. We can get those using fastai “',\n",
       " 'We need images to train our model. So we are going to download images of a forest and a forest in fire so that we can help the environment and predict whether a forest is in fire or not. With only a few lines of code, we can get the',\n",
       " 'We are combining the First two lessons of Practical Deep Learning by Jeremy Howard 2. Import the libraries A contained environment to run scripts within localised area. It is more interactive we can see output for each cell along -- -- Researcher at UCL, UOV',\n",
       " 'Jul 16   การ คลื  \\xa0‘Open-source library’   ‘Deep learning’ ‘Fastai’ and ‘open-source video call’',\n",
       " 'This tutorial is part 2 of the previous writing. We will be discussing the following topics mentioned below We will directly touch on these topics with examples. A loss function is used for categorized labeling. It is the default selection of the fast.ai library for classifiers.',\n",
       " 'In this tutorial we are going to deep dive into image classification. The above concepts will be revealed step by step. We are not going to discuss DOG-CAT Classifier instead PET Breed Classification is more appropriate. In the real-life we have the following',\n",
       " 'Kubernetes is the way to orchestrate your microservices. Kubernetes clusters can be made in cloud infrastructures or in premise bare metal machines. For simplicity, we will be using the cloud. First, create a very basic python app']"
      ]
     },
     "execution_count": 22,
     "metadata": {},
     "output_type": "execute_result"
    }
   ],
   "source": [
    "summaries[\"fastai\"]"
   ]
  },
  {
   "cell_type": "markdown",
   "metadata": {
    "id": "OGTmN8ExWu1J"
   },
   "source": [
    "# 5. Adding Sentiment Analysis"
   ]
  },
  {
   "cell_type": "code",
   "execution_count": 23,
   "metadata": {
    "colab": {
     "base_uri": "https://localhost:8080/",
     "height": 72,
     "referenced_widgets": [
      "b190f00f8d094148ac59c2f9aa72ed28",
      "d065c6a1ab9c41af8421ac2eaeb993d6",
      "a53317129b6b4f94a94aa835db0d77d5",
      "0b6fa626c1dd4a479552e1251f1c28e8",
      "d204d10fe9084a0198e0ce1abf00d26d",
      "2abb71869c5c4d98bfc7e8920167edb8",
      "1ec5ba0d01d348b6b362efaa47c29737",
      "9ef7e910b96a4af99a69ce96b921d969",
      "6e7935f3a1d14ee587d1b6739fea651b",
      "6077318d7aae4b9ebe3a27c31374f416",
      "46979ca9d1664f4585dbe3ee0c30fd7e",
      "cea3300d0937483ba4b55b44b3d973ff",
      "834f3bfae6214811af8f1c5ae25947b1",
      "2a3023b486ed4b1898ae781b4d516cde",
      "12366f7a6c3043289ce7a958d15e5005",
      "f8778790f6e341579a9a38aa08e46867",
      "b2fa817ecf6a49cda3f1349ae826bd0d",
      "eac4c8daef734cac80a13c574ae6db1d",
      "521c031c3b684bcf8bcb9d70e54b4134",
      "5b36b01c97c844e9ae36c0a7c45dbf90",
      "48a78a8119bd427fbc653d4afdffd511",
      "a1ac4fc72834497e80bb03b0ad6424b9",
      "c1d9bf66b6284a1aad164a20233a3a4a",
      "081a61872652492cbd6fa15467b73f51",
      "4a5fb4f616fe4c8f9b0ff3b98c023db6",
      "87a491c6eb8c4fb68011e100194468ba",
      "482824d3bda34b2dae46d74b7ecf3356",
      "dfbb48a257934c00b4bb4a1e53923055",
      "43b31a3c5e804ed7854e85f0e7026beb",
      "1695ffa3d36d44df9be452ee14458fc8",
      "0cc52cf333b9407b91fca5b6525c1f53",
      "22e46e8030e047a2b366a2d7179c7854",
      "2fa75b25aaa8435eb9a6c3cad44913bd",
      "920ecdce410344f89a8808df63ff666e",
      "03881cae6124459b8a86a0168fa7a629",
      "5708c2ea5ce341939f4310ffc0fa00e9",
      "bebfe839ad774e109f8946f7d1c73e47",
      "e1d54b2d0f184f048c6de85a2ead64d8",
      "3b41af17b2ab4c198a1b03e0d0143c04",
      "6139bc3a3ed74012989706ba52482e9e",
      "a03aa61066ed4f65bbcd7542e401cc43",
      "f4870426291740a3823edfe192318bdb",
      "4148d1ffaa63433a8537911c78a97652",
      "5b7a123a06cd4004b64c7d4e364fd80a"
     ]
    },
    "executionInfo": {
     "elapsed": 10476,
     "status": "ok",
     "timestamp": 1661040405917,
     "user": {
      "displayName": "Victor Bahlangene",
      "userId": "17538556812815495532"
     },
     "user_tz": -180
    },
    "id": "Y_pKqpUUXhWW",
    "outputId": "e75b6835-abad-43d5-883a-7907ae7dd0df"
   },
   "outputs": [
    {
     "name": "stderr",
     "output_type": "stream",
     "text": [
      "No model was supplied, defaulted to distilbert-base-uncased-finetuned-sst-2-english and revision af0f99b (https://huggingface.co/distilbert-base-uncased-finetuned-sst-2-english).\n",
      "Using a pipeline without specifying a model name and revision in production is not recommended.\n"
     ]
    },
    {
     "data": {
      "application/json": {
       "ascii": false,
       "bar_format": null,
       "colour": null,
       "elapsed": 0.023269176483154297,
       "initial": 0,
       "n": 0,
       "ncols": null,
       "nrows": null,
       "postfix": null,
       "prefix": "Downloading config.json",
       "rate": null,
       "total": 629,
       "unit": "B",
       "unit_divisor": 1024,
       "unit_scale": true
      },
      "application/vnd.jupyter.widget-view+json": {
       "model_id": "b190f00f8d094148ac59c2f9aa72ed28",
       "version_major": 2,
       "version_minor": 0
      },
      "text/plain": [
       "Downloading config.json:   0%|          | 0.00/629 [00:00<?, ?B/s]"
      ]
     },
     "metadata": {},
     "output_type": "display_data"
    },
    {
     "data": {
      "application/json": {
       "ascii": false,
       "bar_format": null,
       "colour": null,
       "elapsed": 0.023183822631835938,
       "initial": 0,
       "n": 0,
       "ncols": null,
       "nrows": null,
       "postfix": null,
       "prefix": "Downloading pytorch_model.bin",
       "rate": null,
       "total": 267844284,
       "unit": "B",
       "unit_divisor": 1024,
       "unit_scale": true
      },
      "application/vnd.jupyter.widget-view+json": {
       "model_id": "cea3300d0937483ba4b55b44b3d973ff",
       "version_major": 2,
       "version_minor": 0
      },
      "text/plain": [
       "Downloading pytorch_model.bin:   0%|          | 0.00/255M [00:00<?, ?B/s]"
      ]
     },
     "metadata": {},
     "output_type": "display_data"
    },
    {
     "data": {
      "application/json": {
       "ascii": false,
       "bar_format": null,
       "colour": null,
       "elapsed": 0.05540966987609863,
       "initial": 0,
       "n": 0,
       "ncols": null,
       "nrows": null,
       "postfix": null,
       "prefix": "Downloading tokenizer_config.json",
       "rate": null,
       "total": 48,
       "unit": "B",
       "unit_divisor": 1024,
       "unit_scale": true
      },
      "application/vnd.jupyter.widget-view+json": {
       "model_id": "c1d9bf66b6284a1aad164a20233a3a4a",
       "version_major": 2,
       "version_minor": 0
      },
      "text/plain": [
       "Downloading tokenizer_config.json:   0%|          | 0.00/48.0 [00:00<?, ?B/s]"
      ]
     },
     "metadata": {},
     "output_type": "display_data"
    },
    {
     "data": {
      "application/json": {
       "ascii": false,
       "bar_format": null,
       "colour": null,
       "elapsed": 0.0215303897857666,
       "initial": 0,
       "n": 0,
       "ncols": null,
       "nrows": null,
       "postfix": null,
       "prefix": "Downloading vocab.txt",
       "rate": null,
       "total": 231508,
       "unit": "B",
       "unit_divisor": 1024,
       "unit_scale": true
      },
      "application/vnd.jupyter.widget-view+json": {
       "model_id": "920ecdce410344f89a8808df63ff666e",
       "version_major": 2,
       "version_minor": 0
      },
      "text/plain": [
       "Downloading vocab.txt:   0%|          | 0.00/226k [00:00<?, ?B/s]"
      ]
     },
     "metadata": {},
     "output_type": "display_data"
    }
   ],
   "source": [
    "# using pipeline #\n",
    "sentiment = pipeline('sentiment-analysis')"
   ]
  },
  {
   "cell_type": "code",
   "execution_count": 24,
   "metadata": {
    "colab": {
     "base_uri": "https://localhost:8080/"
    },
    "executionInfo": {
     "elapsed": 1069,
     "status": "ok",
     "timestamp": 1661040409595,
     "user": {
      "displayName": "Victor Bahlangene",
      "userId": "17538556812815495532"
     },
     "user_tz": -180
    },
    "id": "7PyHown3XhOj",
    "outputId": "ee37e9ca-ff1e-4cb8-e6b3-f881dbef076f"
   },
   "outputs": [
    {
     "data": {
      "text/plain": [
       "[{'label': 'POSITIVE', 'score': 0.9038269519805908},\n",
       " {'label': 'NEGATIVE', 'score': 0.5976590514183044},\n",
       " {'label': 'NEGATIVE', 'score': 0.9995133876800537},\n",
       " {'label': 'NEGATIVE', 'score': 0.9991627931594849},\n",
       " {'label': 'NEGATIVE', 'score': 0.9957771301269531},\n",
       " {'label': 'POSITIVE', 'score': 0.9954389929771423},\n",
       " {'label': 'NEGATIVE', 'score': 0.7657209634780884},\n",
       " {'label': 'POSITIVE', 'score': 0.9127288460731506},\n",
       " {'label': 'POSITIVE', 'score': 0.9030302166938782},\n",
       " {'label': 'NEGATIVE', 'score': 0.9671006798744202}]"
      ]
     },
     "execution_count": 24,
     "metadata": {},
     "output_type": "execute_result"
    }
   ],
   "source": [
    "# test sentmrnt analysis with 'summaries[\"fastai\"]' #\n",
    "sentiment(summaries[\"fastai\"])"
   ]
  },
  {
   "cell_type": "code",
   "execution_count": 25,
   "metadata": {
    "colab": {
     "base_uri": "https://localhost:8080/"
    },
    "executionInfo": {
     "elapsed": 1323,
     "status": "ok",
     "timestamp": 1661040424714,
     "user": {
      "displayName": "Victor Bahlangene",
      "userId": "17538556812815495532"
     },
     "user_tz": -180
    },
    "id": "Ghyf7J2Zmi0Y",
    "outputId": "e2a8d7f9-fe41-4d38-bfcd-a05a6d7b3be9"
   },
   "outputs": [
    {
     "data": {
      "text/plain": [
       "{'fastai': [{'label': 'POSITIVE', 'score': 0.9038269519805908},\n",
       "  {'label': 'NEGATIVE', 'score': 0.5976590514183044},\n",
       "  {'label': 'NEGATIVE', 'score': 0.9995133876800537},\n",
       "  {'label': 'NEGATIVE', 'score': 0.9991627931594849},\n",
       "  {'label': 'NEGATIVE', 'score': 0.9957771301269531},\n",
       "  {'label': 'POSITIVE', 'score': 0.9954389929771423},\n",
       "  {'label': 'NEGATIVE', 'score': 0.7657209634780884},\n",
       "  {'label': 'POSITIVE', 'score': 0.9127288460731506},\n",
       "  {'label': 'POSITIVE', 'score': 0.9030302166938782},\n",
       "  {'label': 'NEGATIVE', 'score': 0.9671006798744202}]}"
      ]
     },
     "execution_count": 25,
     "metadata": {},
     "output_type": "execute_result"
    }
   ],
   "source": [
    "scores = {ticker:sentiment(summaries[ticker]) for ticker in monitored_tickers}\n",
    "scores"
   ]
  },
  {
   "cell_type": "code",
   "execution_count": 26,
   "metadata": {
    "colab": {
     "base_uri": "https://localhost:8080/"
    },
    "executionInfo": {
     "elapsed": 338,
     "status": "ok",
     "timestamp": 1661040436880,
     "user": {
      "displayName": "Victor Bahlangene",
      "userId": "17538556812815495532"
     },
     "user_tz": -180
    },
    "id": "RwURm3QAm-zt",
    "outputId": "9863c984-8314-4518-f979-42309eb8ceac"
   },
   "outputs": [
    {
     "name": "stdout",
     "output_type": "stream",
     "text": [
      "In this entry, we will try to get better results than what we got on the first model. We are going to try and predict whether a forest is on fire or not. To do this first we need images. We can get those using fastai “ NEGATIVE 0.9991627931594849\n"
     ]
    }
   ],
   "source": [
    "print(summaries['fastai'][3], scores['fastai'][3]['label'], scores['fastai'][3]['score'])"
   ]
  },
  {
   "cell_type": "markdown",
   "metadata": {
    "id": "b1pf4vGvmrRV"
   },
   "source": [
    "sentiment analysis can be improved by finetuning to a datascience specific dataset."
   ]
  },
  {
   "cell_type": "code",
   "execution_count": null,
   "metadata": {
    "id": "xqFrs7Mlmihg"
   },
   "outputs": [],
   "source": []
  },
  {
   "cell_type": "markdown",
   "metadata": {
    "id": "KaM8tyxfW2Mm"
   },
   "source": [
    "# 6. Exporting Results to CSV"
   ]
  },
  {
   "cell_type": "code",
   "execution_count": 27,
   "metadata": {
    "colab": {
     "base_uri": "https://localhost:8080/"
    },
    "executionInfo": {
     "elapsed": 322,
     "status": "ok",
     "timestamp": 1661040601867,
     "user": {
      "displayName": "Victor Bahlangene",
      "userId": "17538556812815495532"
     },
     "user_tz": -180
    },
    "id": "VD8DJhWBV1p4",
    "outputId": "efbbb820-6b60-440a-b50b-8de348a0a9f9"
   },
   "outputs": [
    {
     "data": {
      "text/plain": [
       "{'fastai': ['A few years ago, a paper titled “Grad-CAM: Visual Explanations from Deep Networks via Gradient-based Localization” by Selvaraju et al. talked about how we could visually see the activation maps of a trained CNN.',\n",
       "  \"MLearning.ai lets you train a model and then use it to help with data cleaning. It's helpful to see where exactly our errors are occurring, to see whether they're due to a dataset problem (e.g., images that aren't bears at\",\n",
       "  'In this article, we’re gonna create a classification model that, given an image, will tell you which character of The Simpsons is. As we know, models are useless without data. So our first step will be to get the correct images and labels.',\n",
       "  'In this entry, we will try to get better results than what we got on the first model. We are going to try and predict whether a forest is on fire or not. To do this first we need images. We can get those using fastai “',\n",
       "  'We need images to train our model. So we are going to download images of a forest and a forest in fire so that we can help the environment and predict whether a forest is in fire or not. With only a few lines of code, we can get the',\n",
       "  'We are combining the First two lessons of Practical Deep Learning by Jeremy Howard 2. Import the libraries A contained environment to run scripts within localised area. It is more interactive we can see output for each cell along -- -- Researcher at UCL, UOV',\n",
       "  'Jul 16   การ คลื  \\xa0‘Open-source library’   ‘Deep learning’ ‘Fastai’ and ‘open-source video call’',\n",
       "  'This tutorial is part 2 of the previous writing. We will be discussing the following topics mentioned below We will directly touch on these topics with examples. A loss function is used for categorized labeling. It is the default selection of the fast.ai library for classifiers.',\n",
       "  'In this tutorial we are going to deep dive into image classification. The above concepts will be revealed step by step. We are not going to discuss DOG-CAT Classifier instead PET Breed Classification is more appropriate. In the real-life we have the following',\n",
       "  'Kubernetes is the way to orchestrate your microservices. Kubernetes clusters can be made in cloud infrastructures or in premise bare metal machines. For simplicity, we will be using the cloud. First, create a very basic python app']}"
      ]
     },
     "execution_count": 27,
     "metadata": {},
     "output_type": "execute_result"
    }
   ],
   "source": [
    "summaries"
   ]
  },
  {
   "cell_type": "code",
   "execution_count": 28,
   "metadata": {
    "colab": {
     "base_uri": "https://localhost:8080/"
    },
    "executionInfo": {
     "elapsed": 300,
     "status": "ok",
     "timestamp": 1661040607915,
     "user": {
      "displayName": "Victor Bahlangene",
      "userId": "17538556812815495532"
     },
     "user_tz": -180
    },
    "id": "ejW55AK4ngBf",
    "outputId": "74b1df81-5b68-4afe-ebe0-bfe6491d6c8e"
   },
   "outputs": [
    {
     "data": {
      "text/plain": [
       "{'fastai': [{'label': 'POSITIVE', 'score': 0.9038269519805908},\n",
       "  {'label': 'NEGATIVE', 'score': 0.5976590514183044},\n",
       "  {'label': 'NEGATIVE', 'score': 0.9995133876800537},\n",
       "  {'label': 'NEGATIVE', 'score': 0.9991627931594849},\n",
       "  {'label': 'NEGATIVE', 'score': 0.9957771301269531},\n",
       "  {'label': 'POSITIVE', 'score': 0.9954389929771423},\n",
       "  {'label': 'NEGATIVE', 'score': 0.7657209634780884},\n",
       "  {'label': 'POSITIVE', 'score': 0.9127288460731506},\n",
       "  {'label': 'POSITIVE', 'score': 0.9030302166938782},\n",
       "  {'label': 'NEGATIVE', 'score': 0.9671006798744202}]}"
      ]
     },
     "execution_count": 28,
     "metadata": {},
     "output_type": "execute_result"
    }
   ],
   "source": [
    "scores"
   ]
  },
  {
   "cell_type": "code",
   "execution_count": 29,
   "metadata": {
    "colab": {
     "base_uri": "https://localhost:8080/"
    },
    "executionInfo": {
     "elapsed": 338,
     "status": "ok",
     "timestamp": 1661040611406,
     "user": {
      "displayName": "Victor Bahlangene",
      "userId": "17538556812815495532"
     },
     "user_tz": -180
    },
    "id": "i4r5Zb2znjvo",
    "outputId": "0cc9458a-2a88-43ac-861b-bb2b9dcfca07"
   },
   "outputs": [
    {
     "data": {
      "text/plain": [
       "{'fastai': ['https://medium.com/@msubhaditya/improving-classification-by-visualizing-activations-2afbc73b1f8e?source=topics_v2---------0-84--------------------74cbbc5d_706c_4147_98be_eedae6a933b4-------17',\n",
       "  'https://medium.com/mlearning-ai/deep-learning-for-bear-image-classification-using-pytorch-fastai-duckduckgo-api-89bb7452c730?source=topics_v2---------1-84--------------------74cbbc5d_706c_4147_98be_eedae6a933b4-------17',\n",
       "  'https://medium.com/@santiago-paz/create-a-simple-simpson-character-classifier-with-fast-ai-and-google-collab-part-i-6dfec07e0075?source=topics_v2---------2-84--------------------74cbbc5d_706c_4147_98be_eedae6a933b4-------17',\n",
       "  'https://medium.com/@juancruzalriccortabarria/my-journey-using-fastai-part-ii-95436f8d0130?source=topics_v2---------3-84--------------------74cbbc5d_706c_4147_98be_eedae6a933b4-------17',\n",
       "  'https://medium.com/latinxinai/my-journey-using-fastai-part-i-13dfec6c4fb1?source=topics_v2---------4-84--------------------74cbbc5d_706c_4147_98be_eedae6a933b4-------17',\n",
       "  'https://medium.com/@l154359/walkwithfastai-computervision-1-3863e12f0437?source=topics_v2---------5-84--------------------74cbbc5d_706c_4147_98be_eedae6a933b4-------17',\n",
       "  'https://medium.com/@hothut2012/resnet18-to-predict-hand-sign-with-fastai-9c857fcfc505?source=topics_v2---------6-84--------------------74cbbc5d_706c_4147_98be_eedae6a933b4-------17',\n",
       "  'https://medium.com/@l154359/deep-learning-fast-ai-2022-series-image-classification-2-5f6cdfc21705?source=topics_v2---------7-84--------------------74cbbc5d_706c_4147_98be_eedae6a933b4-------17',\n",
       "  'https://medium.com/@l154359/deep-learning-module-ii-fast-ai-series-image-classification-1-d21be0198aa7?source=topics_v2---------8-84--------------------74cbbc5d_706c_4147_98be_eedae6a933b4-------17',\n",
       "  'https://medium.com/@JugsMa/kubernetes-for-beginners-455b8bad131b?source=topics_v2---------9-84--------------------74cbbc5d_706c_4147_98be_eedae6a933b4-------17']}"
      ]
     },
     "execution_count": 29,
     "metadata": {},
     "output_type": "execute_result"
    }
   ],
   "source": [
    "cleaned_urls"
   ]
  },
  {
   "cell_type": "code",
   "execution_count": 30,
   "metadata": {
    "colab": {
     "base_uri": "https://localhost:8080/"
    },
    "executionInfo": {
     "elapsed": 354,
     "status": "ok",
     "timestamp": 1661040622677,
     "user": {
      "displayName": "Victor Bahlangene",
      "userId": "17538556812815495532"
     },
     "user_tz": -180
    },
    "id": "64DdZntgnrD7",
    "outputId": "664ae7ae-4ec2-4212-ccee-52eb593155eb"
   },
   "outputs": [
    {
     "data": {
      "text/plain": [
       "range(0, 10)"
      ]
     },
     "execution_count": 30,
     "metadata": {},
     "output_type": "execute_result"
    }
   ],
   "source": [
    "range(len(summaries['fastai']))"
   ]
  },
  {
   "cell_type": "code",
   "execution_count": 31,
   "metadata": {
    "colab": {
     "base_uri": "https://localhost:8080/",
     "height": 55
    },
    "executionInfo": {
     "elapsed": 334,
     "status": "ok",
     "timestamp": 1661040626649,
     "user": {
      "displayName": "Victor Bahlangene",
      "userId": "17538556812815495532"
     },
     "user_tz": -180
    },
    "id": "gn-Pr85Gnq_1",
    "outputId": "c3259ebe-9b2e-41f3-cfe1-db25b9de5589"
   },
   "outputs": [
    {
     "data": {
      "application/vnd.google.colaboratory.intrinsic+json": {
       "type": "string"
      },
      "text/plain": [
       "'In this entry, we will try to get better results than what we got on the first model. We are going to try and predict whether a forest is on fire or not. To do this first we need images. We can get those using fastai “'"
      ]
     },
     "execution_count": 31,
     "metadata": {},
     "output_type": "execute_result"
    }
   ],
   "source": [
    "summaries['fastai'][3]"
   ]
  },
  {
   "cell_type": "code",
   "execution_count": 32,
   "metadata": {
    "executionInfo": {
     "elapsed": 291,
     "status": "ok",
     "timestamp": 1661040630594,
     "user": {
      "displayName": "Victor Bahlangene",
      "userId": "17538556812815495532"
     },
     "user_tz": -180
    },
    "id": "-Qv6qSn8nq3k"
   },
   "outputs": [],
   "source": [
    "def create_output_array(summaries, scores, urls):\n",
    "    output = []\n",
    "    for ticker in monitored_tickers:\n",
    "        for counter in range(len(summaries[ticker])):\n",
    "            output_this = [\n",
    "                ticker,\n",
    "                summaries[ticker][counter],\n",
    "                scores[ticker][counter]['label'],\n",
    "                scores[ticker][counter]['score'],\n",
    "                urls[ticker][counter]\n",
    "            ]\n",
    "            output.append(output_this)\n",
    "    return output"
   ]
  },
  {
   "cell_type": "code",
   "execution_count": 33,
   "metadata": {
    "colab": {
     "base_uri": "https://localhost:8080/"
    },
    "executionInfo": {
     "elapsed": 322,
     "status": "ok",
     "timestamp": 1661040636431,
     "user": {
      "displayName": "Victor Bahlangene",
      "userId": "17538556812815495532"
     },
     "user_tz": -180
    },
    "id": "JE3BgmxIoFkZ",
    "outputId": "f661687e-3ec8-4450-9e02-fcc862dfb52c"
   },
   "outputs": [
    {
     "data": {
      "text/plain": [
       "[['fastai',\n",
       "  'A few years ago, a paper titled “Grad-CAM: Visual Explanations from Deep Networks via Gradient-based Localization” by Selvaraju et al. talked about how we could visually see the activation maps of a trained CNN.',\n",
       "  'POSITIVE',\n",
       "  0.9038269519805908,\n",
       "  'https://medium.com/@msubhaditya/improving-classification-by-visualizing-activations-2afbc73b1f8e?source=topics_v2---------0-84--------------------74cbbc5d_706c_4147_98be_eedae6a933b4-------17'],\n",
       " ['fastai',\n",
       "  \"MLearning.ai lets you train a model and then use it to help with data cleaning. It's helpful to see where exactly our errors are occurring, to see whether they're due to a dataset problem (e.g., images that aren't bears at\",\n",
       "  'NEGATIVE',\n",
       "  0.5976590514183044,\n",
       "  'https://medium.com/mlearning-ai/deep-learning-for-bear-image-classification-using-pytorch-fastai-duckduckgo-api-89bb7452c730?source=topics_v2---------1-84--------------------74cbbc5d_706c_4147_98be_eedae6a933b4-------17'],\n",
       " ['fastai',\n",
       "  'In this article, we’re gonna create a classification model that, given an image, will tell you which character of The Simpsons is. As we know, models are useless without data. So our first step will be to get the correct images and labels.',\n",
       "  'NEGATIVE',\n",
       "  0.9995133876800537,\n",
       "  'https://medium.com/@santiago-paz/create-a-simple-simpson-character-classifier-with-fast-ai-and-google-collab-part-i-6dfec07e0075?source=topics_v2---------2-84--------------------74cbbc5d_706c_4147_98be_eedae6a933b4-------17'],\n",
       " ['fastai',\n",
       "  'In this entry, we will try to get better results than what we got on the first model. We are going to try and predict whether a forest is on fire or not. To do this first we need images. We can get those using fastai “',\n",
       "  'NEGATIVE',\n",
       "  0.9991627931594849,\n",
       "  'https://medium.com/@juancruzalriccortabarria/my-journey-using-fastai-part-ii-95436f8d0130?source=topics_v2---------3-84--------------------74cbbc5d_706c_4147_98be_eedae6a933b4-------17'],\n",
       " ['fastai',\n",
       "  'We need images to train our model. So we are going to download images of a forest and a forest in fire so that we can help the environment and predict whether a forest is in fire or not. With only a few lines of code, we can get the',\n",
       "  'NEGATIVE',\n",
       "  0.9957771301269531,\n",
       "  'https://medium.com/latinxinai/my-journey-using-fastai-part-i-13dfec6c4fb1?source=topics_v2---------4-84--------------------74cbbc5d_706c_4147_98be_eedae6a933b4-------17'],\n",
       " ['fastai',\n",
       "  'We are combining the First two lessons of Practical Deep Learning by Jeremy Howard 2. Import the libraries A contained environment to run scripts within localised area. It is more interactive we can see output for each cell along -- -- Researcher at UCL, UOV',\n",
       "  'POSITIVE',\n",
       "  0.9954389929771423,\n",
       "  'https://medium.com/@l154359/walkwithfastai-computervision-1-3863e12f0437?source=topics_v2---------5-84--------------------74cbbc5d_706c_4147_98be_eedae6a933b4-------17'],\n",
       " ['fastai',\n",
       "  'Jul 16   การ คลื  \\xa0‘Open-source library’   ‘Deep learning’ ‘Fastai’ and ‘open-source video call’',\n",
       "  'NEGATIVE',\n",
       "  0.7657209634780884,\n",
       "  'https://medium.com/@hothut2012/resnet18-to-predict-hand-sign-with-fastai-9c857fcfc505?source=topics_v2---------6-84--------------------74cbbc5d_706c_4147_98be_eedae6a933b4-------17'],\n",
       " ['fastai',\n",
       "  'This tutorial is part 2 of the previous writing. We will be discussing the following topics mentioned below We will directly touch on these topics with examples. A loss function is used for categorized labeling. It is the default selection of the fast.ai library for classifiers.',\n",
       "  'POSITIVE',\n",
       "  0.9127288460731506,\n",
       "  'https://medium.com/@l154359/deep-learning-fast-ai-2022-series-image-classification-2-5f6cdfc21705?source=topics_v2---------7-84--------------------74cbbc5d_706c_4147_98be_eedae6a933b4-------17'],\n",
       " ['fastai',\n",
       "  'In this tutorial we are going to deep dive into image classification. The above concepts will be revealed step by step. We are not going to discuss DOG-CAT Classifier instead PET Breed Classification is more appropriate. In the real-life we have the following',\n",
       "  'POSITIVE',\n",
       "  0.9030302166938782,\n",
       "  'https://medium.com/@l154359/deep-learning-module-ii-fast-ai-series-image-classification-1-d21be0198aa7?source=topics_v2---------8-84--------------------74cbbc5d_706c_4147_98be_eedae6a933b4-------17'],\n",
       " ['fastai',\n",
       "  'Kubernetes is the way to orchestrate your microservices. Kubernetes clusters can be made in cloud infrastructures or in premise bare metal machines. For simplicity, we will be using the cloud. First, create a very basic python app',\n",
       "  'NEGATIVE',\n",
       "  0.9671006798744202,\n",
       "  'https://medium.com/@JugsMa/kubernetes-for-beginners-455b8bad131b?source=topics_v2---------9-84--------------------74cbbc5d_706c_4147_98be_eedae6a933b4-------17']]"
      ]
     },
     "execution_count": 33,
     "metadata": {},
     "output_type": "execute_result"
    }
   ],
   "source": [
    "final_output = create_output_array(summaries, scores, cleaned_urls)\n",
    "final_output"
   ]
  },
  {
   "cell_type": "code",
   "execution_count": 34,
   "metadata": {
    "executionInfo": {
     "elapsed": 293,
     "status": "ok",
     "timestamp": 1661040646955,
     "user": {
      "displayName": "Victor Bahlangene",
      "userId": "17538556812815495532"
     },
     "user_tz": -180
    },
    "id": "v5F0GzsYoFh0"
   },
   "outputs": [],
   "source": [
    "# adding cols #\n",
    "final_output.insert(0, ['Ticker', 'Summary', 'Label', 'Confidence', 'URL']) "
   ]
  },
  {
   "cell_type": "code",
   "execution_count": 35,
   "metadata": {
    "colab": {
     "base_uri": "https://localhost:8080/"
    },
    "executionInfo": {
     "elapsed": 340,
     "status": "ok",
     "timestamp": 1661040650972,
     "user": {
      "displayName": "Victor Bahlangene",
      "userId": "17538556812815495532"
     },
     "user_tz": -180
    },
    "id": "5mF0XvQwnjlz",
    "outputId": "da3ccc48-bf82-4216-d8f2-0a0d21f939a1"
   },
   "outputs": [
    {
     "data": {
      "text/plain": [
       "[['Ticker', 'Summary', 'Label', 'Confidence', 'URL'],\n",
       " ['fastai',\n",
       "  'A few years ago, a paper titled “Grad-CAM: Visual Explanations from Deep Networks via Gradient-based Localization” by Selvaraju et al. talked about how we could visually see the activation maps of a trained CNN.',\n",
       "  'POSITIVE',\n",
       "  0.9038269519805908,\n",
       "  'https://medium.com/@msubhaditya/improving-classification-by-visualizing-activations-2afbc73b1f8e?source=topics_v2---------0-84--------------------74cbbc5d_706c_4147_98be_eedae6a933b4-------17'],\n",
       " ['fastai',\n",
       "  \"MLearning.ai lets you train a model and then use it to help with data cleaning. It's helpful to see where exactly our errors are occurring, to see whether they're due to a dataset problem (e.g., images that aren't bears at\",\n",
       "  'NEGATIVE',\n",
       "  0.5976590514183044,\n",
       "  'https://medium.com/mlearning-ai/deep-learning-for-bear-image-classification-using-pytorch-fastai-duckduckgo-api-89bb7452c730?source=topics_v2---------1-84--------------------74cbbc5d_706c_4147_98be_eedae6a933b4-------17'],\n",
       " ['fastai',\n",
       "  'In this article, we’re gonna create a classification model that, given an image, will tell you which character of The Simpsons is. As we know, models are useless without data. So our first step will be to get the correct images and labels.',\n",
       "  'NEGATIVE',\n",
       "  0.9995133876800537,\n",
       "  'https://medium.com/@santiago-paz/create-a-simple-simpson-character-classifier-with-fast-ai-and-google-collab-part-i-6dfec07e0075?source=topics_v2---------2-84--------------------74cbbc5d_706c_4147_98be_eedae6a933b4-------17'],\n",
       " ['fastai',\n",
       "  'In this entry, we will try to get better results than what we got on the first model. We are going to try and predict whether a forest is on fire or not. To do this first we need images. We can get those using fastai “',\n",
       "  'NEGATIVE',\n",
       "  0.9991627931594849,\n",
       "  'https://medium.com/@juancruzalriccortabarria/my-journey-using-fastai-part-ii-95436f8d0130?source=topics_v2---------3-84--------------------74cbbc5d_706c_4147_98be_eedae6a933b4-------17'],\n",
       " ['fastai',\n",
       "  'We need images to train our model. So we are going to download images of a forest and a forest in fire so that we can help the environment and predict whether a forest is in fire or not. With only a few lines of code, we can get the',\n",
       "  'NEGATIVE',\n",
       "  0.9957771301269531,\n",
       "  'https://medium.com/latinxinai/my-journey-using-fastai-part-i-13dfec6c4fb1?source=topics_v2---------4-84--------------------74cbbc5d_706c_4147_98be_eedae6a933b4-------17'],\n",
       " ['fastai',\n",
       "  'We are combining the First two lessons of Practical Deep Learning by Jeremy Howard 2. Import the libraries A contained environment to run scripts within localised area. It is more interactive we can see output for each cell along -- -- Researcher at UCL, UOV',\n",
       "  'POSITIVE',\n",
       "  0.9954389929771423,\n",
       "  'https://medium.com/@l154359/walkwithfastai-computervision-1-3863e12f0437?source=topics_v2---------5-84--------------------74cbbc5d_706c_4147_98be_eedae6a933b4-------17'],\n",
       " ['fastai',\n",
       "  'Jul 16   การ คลื  \\xa0‘Open-source library’   ‘Deep learning’ ‘Fastai’ and ‘open-source video call’',\n",
       "  'NEGATIVE',\n",
       "  0.7657209634780884,\n",
       "  'https://medium.com/@hothut2012/resnet18-to-predict-hand-sign-with-fastai-9c857fcfc505?source=topics_v2---------6-84--------------------74cbbc5d_706c_4147_98be_eedae6a933b4-------17'],\n",
       " ['fastai',\n",
       "  'This tutorial is part 2 of the previous writing. We will be discussing the following topics mentioned below We will directly touch on these topics with examples. A loss function is used for categorized labeling. It is the default selection of the fast.ai library for classifiers.',\n",
       "  'POSITIVE',\n",
       "  0.9127288460731506,\n",
       "  'https://medium.com/@l154359/deep-learning-fast-ai-2022-series-image-classification-2-5f6cdfc21705?source=topics_v2---------7-84--------------------74cbbc5d_706c_4147_98be_eedae6a933b4-------17'],\n",
       " ['fastai',\n",
       "  'In this tutorial we are going to deep dive into image classification. The above concepts will be revealed step by step. We are not going to discuss DOG-CAT Classifier instead PET Breed Classification is more appropriate. In the real-life we have the following',\n",
       "  'POSITIVE',\n",
       "  0.9030302166938782,\n",
       "  'https://medium.com/@l154359/deep-learning-module-ii-fast-ai-series-image-classification-1-d21be0198aa7?source=topics_v2---------8-84--------------------74cbbc5d_706c_4147_98be_eedae6a933b4-------17'],\n",
       " ['fastai',\n",
       "  'Kubernetes is the way to orchestrate your microservices. Kubernetes clusters can be made in cloud infrastructures or in premise bare metal machines. For simplicity, we will be using the cloud. First, create a very basic python app',\n",
       "  'NEGATIVE',\n",
       "  0.9671006798744202,\n",
       "  'https://medium.com/@JugsMa/kubernetes-for-beginners-455b8bad131b?source=topics_v2---------9-84--------------------74cbbc5d_706c_4147_98be_eedae6a933b4-------17']]"
      ]
     },
     "execution_count": 35,
     "metadata": {},
     "output_type": "execute_result"
    }
   ],
   "source": [
    "final_output"
   ]
  },
  {
   "cell_type": "markdown",
   "metadata": {
    "id": "Co5YSI-tohsb"
   },
   "source": [
    "**Export results**"
   ]
  },
  {
   "cell_type": "code",
   "execution_count": null,
   "metadata": {
    "id": "JGLyfg8xol6L"
   },
   "outputs": [],
   "source": [
    "import csv\n",
    "with open('assetsummaries.csv', mode='w', newline='') as f:\n",
    "    csv_writer = csv.writer(f, delimiter=',', quotechar='\"', quoting=csv.QUOTE_MINIMAL)\n",
    "    csv_writer.writerows(final_output)"
   ]
  }
 ],
 "metadata": {
  "colab": {
   "authorship_tag": "ABX9TyPVKAxNAlefiITpGf20i7Z+",
   "name": "User İnput Datascience-News-ScrapingSummarizationSentiment.ipynb",
   "provenance": []
  },
  "gpuClass": "standard",
  "kernelspec": {
   "display_name": "Python 3",
   "language": "python",
   "name": "python3"
  },
  "language_info": {
   "codemirror_mode": {
    "name": "ipython",
    "version": 3
   },
   "file_extension": ".py",
   "mimetype": "text/x-python",
   "name": "python",
   "nbconvert_exporter": "python",
   "pygments_lexer": "ipython3",
   "version": "3.8.8"
  },
  "widgets": {
   "application/vnd.jupyter.widget-state+json": {
    "015bae15b5ba4139b6f5d2824dbe38dd": {
     "model_module": "@jupyter-widgets/base",
     "model_module_version": "2.0.0",
     "model_name": "LayoutModel",
     "state": {
      "_model_module": "@jupyter-widgets/base",
      "_model_module_version": "2.0.0",
      "_model_name": "LayoutModel",
      "_view_count": null,
      "_view_module": "@jupyter-widgets/base",
      "_view_module_version": "2.0.0",
      "_view_name": "LayoutView",
      "align_content": null,
      "align_items": null,
      "align_self": null,
      "border_bottom": null,
      "border_left": null,
      "border_right": null,
      "border_top": null,
      "bottom": null,
      "display": null,
      "flex": null,
      "flex_flow": null,
      "grid_area": null,
      "grid_auto_columns": null,
      "grid_auto_flow": null,
      "grid_auto_rows": null,
      "grid_column": null,
      "grid_gap": null,
      "grid_row": null,
      "grid_template_areas": null,
      "grid_template_columns": null,
      "grid_template_rows": null,
      "height": null,
      "justify_content": null,
      "justify_items": null,
      "left": null,
      "margin": null,
      "max_height": null,
      "max_width": null,
      "min_height": null,
      "min_width": null,
      "object_fit": null,
      "object_position": null,
      "order": null,
      "overflow": null,
      "padding": null,
      "right": null,
      "top": null,
      "visibility": null,
      "width": null
     }
    },
    "025cb29a1d6d43adaf8ab8448e4281d2": {
     "model_module": "@jupyter-widgets/controls",
     "model_module_version": "2.0.0",
     "model_name": "HTMLModel",
     "state": {
      "_dom_classes": [],
      "_model_module": "@jupyter-widgets/controls",
      "_model_module_version": "2.0.0",
      "_model_name": "HTMLModel",
      "_view_count": null,
      "_view_module": "@jupyter-widgets/controls",
      "_view_module_version": "2.0.0",
      "_view_name": "HTMLView",
      "description": "",
      "description_allow_html": false,
      "layout": "IPY_MODEL_087702b776374f70a62dd9798b0a7e05",
      "placeholder": "​",
      "style": "IPY_MODEL_2ae656be4df1467786e076357158d8bc",
      "tabbable": null,
      "tooltip": null,
      "value": "Downloading merges.txt: 100%"
     }
    },
    "03881cae6124459b8a86a0168fa7a629": {
     "model_module": "@jupyter-widgets/controls",
     "model_module_version": "2.0.0",
     "model_name": "HTMLModel",
     "state": {
      "_dom_classes": [],
      "_model_module": "@jupyter-widgets/controls",
      "_model_module_version": "2.0.0",
      "_model_name": "HTMLModel",
      "_view_count": null,
      "_view_module": "@jupyter-widgets/controls",
      "_view_module_version": "2.0.0",
      "_view_name": "HTMLView",
      "description": "",
      "description_allow_html": false,
      "layout": "IPY_MODEL_3b41af17b2ab4c198a1b03e0d0143c04",
      "placeholder": "​",
      "style": "IPY_MODEL_6139bc3a3ed74012989706ba52482e9e",
      "tabbable": null,
      "tooltip": null,
      "value": "Downloading vocab.txt: 100%"
     }
    },
    "081a61872652492cbd6fa15467b73f51": {
     "model_module": "@jupyter-widgets/controls",
     "model_module_version": "2.0.0",
     "model_name": "HTMLModel",
     "state": {
      "_dom_classes": [],
      "_model_module": "@jupyter-widgets/controls",
      "_model_module_version": "2.0.0",
      "_model_name": "HTMLModel",
      "_view_count": null,
      "_view_module": "@jupyter-widgets/controls",
      "_view_module_version": "2.0.0",
      "_view_name": "HTMLView",
      "description": "",
      "description_allow_html": false,
      "layout": "IPY_MODEL_dfbb48a257934c00b4bb4a1e53923055",
      "placeholder": "​",
      "style": "IPY_MODEL_43b31a3c5e804ed7854e85f0e7026beb",
      "tabbable": null,
      "tooltip": null,
      "value": "Downloading tokenizer_config.json: 100%"
     }
    },
    "087702b776374f70a62dd9798b0a7e05": {
     "model_module": "@jupyter-widgets/base",
     "model_module_version": "2.0.0",
     "model_name": "LayoutModel",
     "state": {
      "_model_module": "@jupyter-widgets/base",
      "_model_module_version": "2.0.0",
      "_model_name": "LayoutModel",
      "_view_count": null,
      "_view_module": "@jupyter-widgets/base",
      "_view_module_version": "2.0.0",
      "_view_name": "LayoutView",
      "align_content": null,
      "align_items": null,
      "align_self": null,
      "border_bottom": null,
      "border_left": null,
      "border_right": null,
      "border_top": null,
      "bottom": null,
      "display": null,
      "flex": null,
      "flex_flow": null,
      "grid_area": null,
      "grid_auto_columns": null,
      "grid_auto_flow": null,
      "grid_auto_rows": null,
      "grid_column": null,
      "grid_gap": null,
      "grid_row": null,
      "grid_template_areas": null,
      "grid_template_columns": null,
      "grid_template_rows": null,
      "height": null,
      "justify_content": null,
      "justify_items": null,
      "left": null,
      "margin": null,
      "max_height": null,
      "max_width": null,
      "min_height": null,
      "min_width": null,
      "object_fit": null,
      "object_position": null,
      "order": null,
      "overflow": null,
      "padding": null,
      "right": null,
      "top": null,
      "visibility": null,
      "width": null
     }
    },
    "0b6fa626c1dd4a479552e1251f1c28e8": {
     "model_module": "@jupyter-widgets/controls",
     "model_module_version": "2.0.0",
     "model_name": "HTMLModel",
     "state": {
      "_dom_classes": [],
      "_model_module": "@jupyter-widgets/controls",
      "_model_module_version": "2.0.0",
      "_model_name": "HTMLModel",
      "_view_count": null,
      "_view_module": "@jupyter-widgets/controls",
      "_view_module_version": "2.0.0",
      "_view_name": "HTMLView",
      "description": "",
      "description_allow_html": false,
      "layout": "IPY_MODEL_6077318d7aae4b9ebe3a27c31374f416",
      "placeholder": "​",
      "style": "IPY_MODEL_46979ca9d1664f4585dbe3ee0c30fd7e",
      "tabbable": null,
      "tooltip": null,
      "value": " 629/629 [00:00&lt;00:00, 15.6kB/s]"
     }
    },
    "0cc52cf333b9407b91fca5b6525c1f53": {
     "model_module": "@jupyter-widgets/controls",
     "model_module_version": "2.0.0",
     "model_name": "ProgressStyleModel",
     "state": {
      "_model_module": "@jupyter-widgets/controls",
      "_model_module_version": "2.0.0",
      "_model_name": "ProgressStyleModel",
      "_view_count": null,
      "_view_module": "@jupyter-widgets/base",
      "_view_module_version": "2.0.0",
      "_view_name": "StyleView",
      "bar_color": null,
      "description_width": ""
     }
    },
    "12366f7a6c3043289ce7a958d15e5005": {
     "model_module": "@jupyter-widgets/controls",
     "model_module_version": "2.0.0",
     "model_name": "HTMLModel",
     "state": {
      "_dom_classes": [],
      "_model_module": "@jupyter-widgets/controls",
      "_model_module_version": "2.0.0",
      "_model_name": "HTMLModel",
      "_view_count": null,
      "_view_module": "@jupyter-widgets/controls",
      "_view_module_version": "2.0.0",
      "_view_name": "HTMLView",
      "description": "",
      "description_allow_html": false,
      "layout": "IPY_MODEL_48a78a8119bd427fbc653d4afdffd511",
      "placeholder": "​",
      "style": "IPY_MODEL_a1ac4fc72834497e80bb03b0ad6424b9",
      "tabbable": null,
      "tooltip": null,
      "value": " 255M/255M [00:08&lt;00:00, 38.6MB/s]"
     }
    },
    "16250190013644a688ebb523d9fc99a7": {
     "model_module": "@jupyter-widgets/controls",
     "model_module_version": "2.0.0",
     "model_name": "HBoxModel",
     "state": {
      "_dom_classes": [],
      "_model_module": "@jupyter-widgets/controls",
      "_model_module_version": "2.0.0",
      "_model_name": "HBoxModel",
      "_view_count": null,
      "_view_module": "@jupyter-widgets/controls",
      "_view_module_version": "2.0.0",
      "_view_name": "HBoxView",
      "box_style": "",
      "children": [
       "IPY_MODEL_d896098cd7104c69bdca8e676809ef02",
       "IPY_MODEL_719bae0abef749319c46aede0265c11b",
       "IPY_MODEL_f2a031d4f35343d5af39f780670f71b0"
      ],
      "layout": "IPY_MODEL_78b266acc821494592130c7d80a7e6a3",
      "tabbable": null,
      "tooltip": null
     }
    },
    "1695ffa3d36d44df9be452ee14458fc8": {
     "model_module": "@jupyter-widgets/base",
     "model_module_version": "2.0.0",
     "model_name": "LayoutModel",
     "state": {
      "_model_module": "@jupyter-widgets/base",
      "_model_module_version": "2.0.0",
      "_model_name": "LayoutModel",
      "_view_count": null,
      "_view_module": "@jupyter-widgets/base",
      "_view_module_version": "2.0.0",
      "_view_name": "LayoutView",
      "align_content": null,
      "align_items": null,
      "align_self": null,
      "border_bottom": null,
      "border_left": null,
      "border_right": null,
      "border_top": null,
      "bottom": null,
      "display": null,
      "flex": null,
      "flex_flow": null,
      "grid_area": null,
      "grid_auto_columns": null,
      "grid_auto_flow": null,
      "grid_auto_rows": null,
      "grid_column": null,
      "grid_gap": null,
      "grid_row": null,
      "grid_template_areas": null,
      "grid_template_columns": null,
      "grid_template_rows": null,
      "height": null,
      "justify_content": null,
      "justify_items": null,
      "left": null,
      "margin": null,
      "max_height": null,
      "max_width": null,
      "min_height": null,
      "min_width": null,
      "object_fit": null,
      "object_position": null,
      "order": null,
      "overflow": null,
      "padding": null,
      "right": null,
      "top": null,
      "visibility": null,
      "width": null
     }
    },
    "173641529f904e67abade8b4c8e42230": {
     "model_module": "@jupyter-widgets/base",
     "model_module_version": "2.0.0",
     "model_name": "LayoutModel",
     "state": {
      "_model_module": "@jupyter-widgets/base",
      "_model_module_version": "2.0.0",
      "_model_name": "LayoutModel",
      "_view_count": null,
      "_view_module": "@jupyter-widgets/base",
      "_view_module_version": "2.0.0",
      "_view_name": "LayoutView",
      "align_content": null,
      "align_items": null,
      "align_self": null,
      "border_bottom": null,
      "border_left": null,
      "border_right": null,
      "border_top": null,
      "bottom": null,
      "display": null,
      "flex": null,
      "flex_flow": null,
      "grid_area": null,
      "grid_auto_columns": null,
      "grid_auto_flow": null,
      "grid_auto_rows": null,
      "grid_column": null,
      "grid_gap": null,
      "grid_row": null,
      "grid_template_areas": null,
      "grid_template_columns": null,
      "grid_template_rows": null,
      "height": null,
      "justify_content": null,
      "justify_items": null,
      "left": null,
      "margin": null,
      "max_height": null,
      "max_width": null,
      "min_height": null,
      "min_width": null,
      "object_fit": null,
      "object_position": null,
      "order": null,
      "overflow": null,
      "padding": null,
      "right": null,
      "top": null,
      "visibility": null,
      "width": null
     }
    },
    "1ec5ba0d01d348b6b362efaa47c29737": {
     "model_module": "@jupyter-widgets/controls",
     "model_module_version": "2.0.0",
     "model_name": "HTMLStyleModel",
     "state": {
      "_model_module": "@jupyter-widgets/controls",
      "_model_module_version": "2.0.0",
      "_model_name": "HTMLStyleModel",
      "_view_count": null,
      "_view_module": "@jupyter-widgets/base",
      "_view_module_version": "2.0.0",
      "_view_name": "StyleView",
      "background": null,
      "description_width": "",
      "font_size": null,
      "text_color": null
     }
    },
    "22e46e8030e047a2b366a2d7179c7854": {
     "model_module": "@jupyter-widgets/base",
     "model_module_version": "2.0.0",
     "model_name": "LayoutModel",
     "state": {
      "_model_module": "@jupyter-widgets/base",
      "_model_module_version": "2.0.0",
      "_model_name": "LayoutModel",
      "_view_count": null,
      "_view_module": "@jupyter-widgets/base",
      "_view_module_version": "2.0.0",
      "_view_name": "LayoutView",
      "align_content": null,
      "align_items": null,
      "align_self": null,
      "border_bottom": null,
      "border_left": null,
      "border_right": null,
      "border_top": null,
      "bottom": null,
      "display": null,
      "flex": null,
      "flex_flow": null,
      "grid_area": null,
      "grid_auto_columns": null,
      "grid_auto_flow": null,
      "grid_auto_rows": null,
      "grid_column": null,
      "grid_gap": null,
      "grid_row": null,
      "grid_template_areas": null,
      "grid_template_columns": null,
      "grid_template_rows": null,
      "height": null,
      "justify_content": null,
      "justify_items": null,
      "left": null,
      "margin": null,
      "max_height": null,
      "max_width": null,
      "min_height": null,
      "min_width": null,
      "object_fit": null,
      "object_position": null,
      "order": null,
      "overflow": null,
      "padding": null,
      "right": null,
      "top": null,
      "visibility": null,
      "width": null
     }
    },
    "27b78ecafb864f77ac152ad732cf290a": {
     "model_module": "@jupyter-widgets/controls",
     "model_module_version": "2.0.0",
     "model_name": "ProgressStyleModel",
     "state": {
      "_model_module": "@jupyter-widgets/controls",
      "_model_module_version": "2.0.0",
      "_model_name": "ProgressStyleModel",
      "_view_count": null,
      "_view_module": "@jupyter-widgets/base",
      "_view_module_version": "2.0.0",
      "_view_name": "StyleView",
      "bar_color": null,
      "description_width": ""
     }
    },
    "29405d610e6443658b20c76394e39ec6": {
     "model_module": "@jupyter-widgets/controls",
     "model_module_version": "2.0.0",
     "model_name": "ProgressStyleModel",
     "state": {
      "_model_module": "@jupyter-widgets/controls",
      "_model_module_version": "2.0.0",
      "_model_name": "ProgressStyleModel",
      "_view_count": null,
      "_view_module": "@jupyter-widgets/base",
      "_view_module_version": "2.0.0",
      "_view_name": "StyleView",
      "bar_color": null,
      "description_width": ""
     }
    },
    "2a3023b486ed4b1898ae781b4d516cde": {
     "model_module": "@jupyter-widgets/controls",
     "model_module_version": "2.0.0",
     "model_name": "FloatProgressModel",
     "state": {
      "_dom_classes": [],
      "_model_module": "@jupyter-widgets/controls",
      "_model_module_version": "2.0.0",
      "_model_name": "FloatProgressModel",
      "_view_count": null,
      "_view_module": "@jupyter-widgets/controls",
      "_view_module_version": "2.0.0",
      "_view_name": "ProgressView",
      "bar_style": "success",
      "description": "",
      "description_allow_html": false,
      "layout": "IPY_MODEL_521c031c3b684bcf8bcb9d70e54b4134",
      "max": 267844284,
      "min": 0,
      "orientation": "horizontal",
      "style": "IPY_MODEL_5b36b01c97c844e9ae36c0a7c45dbf90",
      "tabbable": null,
      "tooltip": null,
      "value": 267844284
     }
    },
    "2abb71869c5c4d98bfc7e8920167edb8": {
     "model_module": "@jupyter-widgets/base",
     "model_module_version": "2.0.0",
     "model_name": "LayoutModel",
     "state": {
      "_model_module": "@jupyter-widgets/base",
      "_model_module_version": "2.0.0",
      "_model_name": "LayoutModel",
      "_view_count": null,
      "_view_module": "@jupyter-widgets/base",
      "_view_module_version": "2.0.0",
      "_view_name": "LayoutView",
      "align_content": null,
      "align_items": null,
      "align_self": null,
      "border_bottom": null,
      "border_left": null,
      "border_right": null,
      "border_top": null,
      "bottom": null,
      "display": null,
      "flex": null,
      "flex_flow": null,
      "grid_area": null,
      "grid_auto_columns": null,
      "grid_auto_flow": null,
      "grid_auto_rows": null,
      "grid_column": null,
      "grid_gap": null,
      "grid_row": null,
      "grid_template_areas": null,
      "grid_template_columns": null,
      "grid_template_rows": null,
      "height": null,
      "justify_content": null,
      "justify_items": null,
      "left": null,
      "margin": null,
      "max_height": null,
      "max_width": null,
      "min_height": null,
      "min_width": null,
      "object_fit": null,
      "object_position": null,
      "order": null,
      "overflow": null,
      "padding": null,
      "right": null,
      "top": null,
      "visibility": null,
      "width": null
     }
    },
    "2ae656be4df1467786e076357158d8bc": {
     "model_module": "@jupyter-widgets/controls",
     "model_module_version": "2.0.0",
     "model_name": "HTMLStyleModel",
     "state": {
      "_model_module": "@jupyter-widgets/controls",
      "_model_module_version": "2.0.0",
      "_model_name": "HTMLStyleModel",
      "_view_count": null,
      "_view_module": "@jupyter-widgets/base",
      "_view_module_version": "2.0.0",
      "_view_name": "StyleView",
      "background": null,
      "description_width": "",
      "font_size": null,
      "text_color": null
     }
    },
    "2fa75b25aaa8435eb9a6c3cad44913bd": {
     "model_module": "@jupyter-widgets/controls",
     "model_module_version": "2.0.0",
     "model_name": "HTMLStyleModel",
     "state": {
      "_model_module": "@jupyter-widgets/controls",
      "_model_module_version": "2.0.0",
      "_model_name": "HTMLStyleModel",
      "_view_count": null,
      "_view_module": "@jupyter-widgets/base",
      "_view_module_version": "2.0.0",
      "_view_name": "StyleView",
      "background": null,
      "description_width": "",
      "font_size": null,
      "text_color": null
     }
    },
    "302deed8eb6a4a9bb893303849b4219b": {
     "model_module": "@jupyter-widgets/base",
     "model_module_version": "2.0.0",
     "model_name": "LayoutModel",
     "state": {
      "_model_module": "@jupyter-widgets/base",
      "_model_module_version": "2.0.0",
      "_model_name": "LayoutModel",
      "_view_count": null,
      "_view_module": "@jupyter-widgets/base",
      "_view_module_version": "2.0.0",
      "_view_name": "LayoutView",
      "align_content": null,
      "align_items": null,
      "align_self": null,
      "border_bottom": null,
      "border_left": null,
      "border_right": null,
      "border_top": null,
      "bottom": null,
      "display": null,
      "flex": null,
      "flex_flow": null,
      "grid_area": null,
      "grid_auto_columns": null,
      "grid_auto_flow": null,
      "grid_auto_rows": null,
      "grid_column": null,
      "grid_gap": null,
      "grid_row": null,
      "grid_template_areas": null,
      "grid_template_columns": null,
      "grid_template_rows": null,
      "height": null,
      "justify_content": null,
      "justify_items": null,
      "left": null,
      "margin": null,
      "max_height": null,
      "max_width": null,
      "min_height": null,
      "min_width": null,
      "object_fit": null,
      "object_position": null,
      "order": null,
      "overflow": null,
      "padding": null,
      "right": null,
      "top": null,
      "visibility": null,
      "width": null
     }
    },
    "312ac4ca256d4f1085c42b9671bdbdc8": {
     "model_module": "@jupyter-widgets/base",
     "model_module_version": "2.0.0",
     "model_name": "LayoutModel",
     "state": {
      "_model_module": "@jupyter-widgets/base",
      "_model_module_version": "2.0.0",
      "_model_name": "LayoutModel",
      "_view_count": null,
      "_view_module": "@jupyter-widgets/base",
      "_view_module_version": "2.0.0",
      "_view_name": "LayoutView",
      "align_content": null,
      "align_items": null,
      "align_self": null,
      "border_bottom": null,
      "border_left": null,
      "border_right": null,
      "border_top": null,
      "bottom": null,
      "display": null,
      "flex": null,
      "flex_flow": null,
      "grid_area": null,
      "grid_auto_columns": null,
      "grid_auto_flow": null,
      "grid_auto_rows": null,
      "grid_column": null,
      "grid_gap": null,
      "grid_row": null,
      "grid_template_areas": null,
      "grid_template_columns": null,
      "grid_template_rows": null,
      "height": null,
      "justify_content": null,
      "justify_items": null,
      "left": null,
      "margin": null,
      "max_height": null,
      "max_width": null,
      "min_height": null,
      "min_width": null,
      "object_fit": null,
      "object_position": null,
      "order": null,
      "overflow": null,
      "padding": null,
      "right": null,
      "top": null,
      "visibility": null,
      "width": null
     }
    },
    "36b19b09bc9f4ffc8d770fc24e774a68": {
     "model_module": "@jupyter-widgets/controls",
     "model_module_version": "2.0.0",
     "model_name": "HBoxModel",
     "state": {
      "_dom_classes": [],
      "_model_module": "@jupyter-widgets/controls",
      "_model_module_version": "2.0.0",
      "_model_name": "HBoxModel",
      "_view_count": null,
      "_view_module": "@jupyter-widgets/controls",
      "_view_module_version": "2.0.0",
      "_view_name": "HBoxView",
      "box_style": "",
      "children": [
       "IPY_MODEL_62b87d61043943c5976f2b3f205a9b01",
       "IPY_MODEL_dc2d2a8531f14d4892ea1ca10a1d7fd3",
       "IPY_MODEL_5d656af6bb834d6e8d4d66f7766cbd2c"
      ],
      "layout": "IPY_MODEL_966a54ea3ac4449299d802c433f7945d",
      "tabbable": null,
      "tooltip": null
     }
    },
    "38e11bd763f244cab2694b792c7892dc": {
     "model_module": "@jupyter-widgets/controls",
     "model_module_version": "2.0.0",
     "model_name": "HTMLStyleModel",
     "state": {
      "_model_module": "@jupyter-widgets/controls",
      "_model_module_version": "2.0.0",
      "_model_name": "HTMLStyleModel",
      "_view_count": null,
      "_view_module": "@jupyter-widgets/base",
      "_view_module_version": "2.0.0",
      "_view_name": "StyleView",
      "background": null,
      "description_width": "",
      "font_size": null,
      "text_color": null
     }
    },
    "3b41af17b2ab4c198a1b03e0d0143c04": {
     "model_module": "@jupyter-widgets/base",
     "model_module_version": "2.0.0",
     "model_name": "LayoutModel",
     "state": {
      "_model_module": "@jupyter-widgets/base",
      "_model_module_version": "2.0.0",
      "_model_name": "LayoutModel",
      "_view_count": null,
      "_view_module": "@jupyter-widgets/base",
      "_view_module_version": "2.0.0",
      "_view_name": "LayoutView",
      "align_content": null,
      "align_items": null,
      "align_self": null,
      "border_bottom": null,
      "border_left": null,
      "border_right": null,
      "border_top": null,
      "bottom": null,
      "display": null,
      "flex": null,
      "flex_flow": null,
      "grid_area": null,
      "grid_auto_columns": null,
      "grid_auto_flow": null,
      "grid_auto_rows": null,
      "grid_column": null,
      "grid_gap": null,
      "grid_row": null,
      "grid_template_areas": null,
      "grid_template_columns": null,
      "grid_template_rows": null,
      "height": null,
      "justify_content": null,
      "justify_items": null,
      "left": null,
      "margin": null,
      "max_height": null,
      "max_width": null,
      "min_height": null,
      "min_width": null,
      "object_fit": null,
      "object_position": null,
      "order": null,
      "overflow": null,
      "padding": null,
      "right": null,
      "top": null,
      "visibility": null,
      "width": null
     }
    },
    "3bba4e92e5684db68991e756db525787": {
     "model_module": "@jupyter-widgets/controls",
     "model_module_version": "2.0.0",
     "model_name": "HTMLModel",
     "state": {
      "_dom_classes": [],
      "_model_module": "@jupyter-widgets/controls",
      "_model_module_version": "2.0.0",
      "_model_name": "HTMLModel",
      "_view_count": null,
      "_view_module": "@jupyter-widgets/controls",
      "_view_module_version": "2.0.0",
      "_view_name": "HTMLView",
      "description": "",
      "description_allow_html": false,
      "layout": "IPY_MODEL_520c720a521c45cca11f444b37bf7d7c",
      "placeholder": "​",
      "style": "IPY_MODEL_a105e247dda940ddb5503494ea2592d2",
      "tabbable": null,
      "tooltip": null,
      "value": " 1.51G/1.51G [00:34&lt;00:00, 52.0MB/s]"
     }
    },
    "3fed53afbb564006965e5f89402f7eb5": {
     "model_module": "@jupyter-widgets/controls",
     "model_module_version": "2.0.0",
     "model_name": "FloatProgressModel",
     "state": {
      "_dom_classes": [],
      "_model_module": "@jupyter-widgets/controls",
      "_model_module_version": "2.0.0",
      "_model_name": "FloatProgressModel",
      "_view_count": null,
      "_view_module": "@jupyter-widgets/controls",
      "_view_module_version": "2.0.0",
      "_view_name": "ProgressView",
      "bar_style": "success",
      "description": "",
      "description_allow_html": false,
      "layout": "IPY_MODEL_015bae15b5ba4139b6f5d2824dbe38dd",
      "max": 1625270765,
      "min": 0,
      "orientation": "horizontal",
      "style": "IPY_MODEL_ac07a83723294bdfa631949cc6f601d6",
      "tabbable": null,
      "tooltip": null,
      "value": 1625270765
     }
    },
    "4148d1ffaa63433a8537911c78a97652": {
     "model_module": "@jupyter-widgets/base",
     "model_module_version": "2.0.0",
     "model_name": "LayoutModel",
     "state": {
      "_model_module": "@jupyter-widgets/base",
      "_model_module_version": "2.0.0",
      "_model_name": "LayoutModel",
      "_view_count": null,
      "_view_module": "@jupyter-widgets/base",
      "_view_module_version": "2.0.0",
      "_view_name": "LayoutView",
      "align_content": null,
      "align_items": null,
      "align_self": null,
      "border_bottom": null,
      "border_left": null,
      "border_right": null,
      "border_top": null,
      "bottom": null,
      "display": null,
      "flex": null,
      "flex_flow": null,
      "grid_area": null,
      "grid_auto_columns": null,
      "grid_auto_flow": null,
      "grid_auto_rows": null,
      "grid_column": null,
      "grid_gap": null,
      "grid_row": null,
      "grid_template_areas": null,
      "grid_template_columns": null,
      "grid_template_rows": null,
      "height": null,
      "justify_content": null,
      "justify_items": null,
      "left": null,
      "margin": null,
      "max_height": null,
      "max_width": null,
      "min_height": null,
      "min_width": null,
      "object_fit": null,
      "object_position": null,
      "order": null,
      "overflow": null,
      "padding": null,
      "right": null,
      "top": null,
      "visibility": null,
      "width": null
     }
    },
    "43b31a3c5e804ed7854e85f0e7026beb": {
     "model_module": "@jupyter-widgets/controls",
     "model_module_version": "2.0.0",
     "model_name": "HTMLStyleModel",
     "state": {
      "_model_module": "@jupyter-widgets/controls",
      "_model_module_version": "2.0.0",
      "_model_name": "HTMLStyleModel",
      "_view_count": null,
      "_view_module": "@jupyter-widgets/base",
      "_view_module_version": "2.0.0",
      "_view_name": "StyleView",
      "background": null,
      "description_width": "",
      "font_size": null,
      "text_color": null
     }
    },
    "46979ca9d1664f4585dbe3ee0c30fd7e": {
     "model_module": "@jupyter-widgets/controls",
     "model_module_version": "2.0.0",
     "model_name": "HTMLStyleModel",
     "state": {
      "_model_module": "@jupyter-widgets/controls",
      "_model_module_version": "2.0.0",
      "_model_name": "HTMLStyleModel",
      "_view_count": null,
      "_view_module": "@jupyter-widgets/base",
      "_view_module_version": "2.0.0",
      "_view_name": "StyleView",
      "background": null,
      "description_width": "",
      "font_size": null,
      "text_color": null
     }
    },
    "482824d3bda34b2dae46d74b7ecf3356": {
     "model_module": "@jupyter-widgets/base",
     "model_module_version": "2.0.0",
     "model_name": "LayoutModel",
     "state": {
      "_model_module": "@jupyter-widgets/base",
      "_model_module_version": "2.0.0",
      "_model_name": "LayoutModel",
      "_view_count": null,
      "_view_module": "@jupyter-widgets/base",
      "_view_module_version": "2.0.0",
      "_view_name": "LayoutView",
      "align_content": null,
      "align_items": null,
      "align_self": null,
      "border_bottom": null,
      "border_left": null,
      "border_right": null,
      "border_top": null,
      "bottom": null,
      "display": null,
      "flex": null,
      "flex_flow": null,
      "grid_area": null,
      "grid_auto_columns": null,
      "grid_auto_flow": null,
      "grid_auto_rows": null,
      "grid_column": null,
      "grid_gap": null,
      "grid_row": null,
      "grid_template_areas": null,
      "grid_template_columns": null,
      "grid_template_rows": null,
      "height": null,
      "justify_content": null,
      "justify_items": null,
      "left": null,
      "margin": null,
      "max_height": null,
      "max_width": null,
      "min_height": null,
      "min_width": null,
      "object_fit": null,
      "object_position": null,
      "order": null,
      "overflow": null,
      "padding": null,
      "right": null,
      "top": null,
      "visibility": null,
      "width": null
     }
    },
    "48a78a8119bd427fbc653d4afdffd511": {
     "model_module": "@jupyter-widgets/base",
     "model_module_version": "2.0.0",
     "model_name": "LayoutModel",
     "state": {
      "_model_module": "@jupyter-widgets/base",
      "_model_module_version": "2.0.0",
      "_model_name": "LayoutModel",
      "_view_count": null,
      "_view_module": "@jupyter-widgets/base",
      "_view_module_version": "2.0.0",
      "_view_name": "LayoutView",
      "align_content": null,
      "align_items": null,
      "align_self": null,
      "border_bottom": null,
      "border_left": null,
      "border_right": null,
      "border_top": null,
      "bottom": null,
      "display": null,
      "flex": null,
      "flex_flow": null,
      "grid_area": null,
      "grid_auto_columns": null,
      "grid_auto_flow": null,
      "grid_auto_rows": null,
      "grid_column": null,
      "grid_gap": null,
      "grid_row": null,
      "grid_template_areas": null,
      "grid_template_columns": null,
      "grid_template_rows": null,
      "height": null,
      "justify_content": null,
      "justify_items": null,
      "left": null,
      "margin": null,
      "max_height": null,
      "max_width": null,
      "min_height": null,
      "min_width": null,
      "object_fit": null,
      "object_position": null,
      "order": null,
      "overflow": null,
      "padding": null,
      "right": null,
      "top": null,
      "visibility": null,
      "width": null
     }
    },
    "4a5fb4f616fe4c8f9b0ff3b98c023db6": {
     "model_module": "@jupyter-widgets/controls",
     "model_module_version": "2.0.0",
     "model_name": "FloatProgressModel",
     "state": {
      "_dom_classes": [],
      "_model_module": "@jupyter-widgets/controls",
      "_model_module_version": "2.0.0",
      "_model_name": "FloatProgressModel",
      "_view_count": null,
      "_view_module": "@jupyter-widgets/controls",
      "_view_module_version": "2.0.0",
      "_view_name": "ProgressView",
      "bar_style": "success",
      "description": "",
      "description_allow_html": false,
      "layout": "IPY_MODEL_1695ffa3d36d44df9be452ee14458fc8",
      "max": 48,
      "min": 0,
      "orientation": "horizontal",
      "style": "IPY_MODEL_0cc52cf333b9407b91fca5b6525c1f53",
      "tabbable": null,
      "tooltip": null,
      "value": 48
     }
    },
    "4e5f4014c54e4932911a560dc5e10074": {
     "model_module": "@jupyter-widgets/controls",
     "model_module_version": "2.0.0",
     "model_name": "ProgressStyleModel",
     "state": {
      "_model_module": "@jupyter-widgets/controls",
      "_model_module_version": "2.0.0",
      "_model_name": "ProgressStyleModel",
      "_view_count": null,
      "_view_module": "@jupyter-widgets/base",
      "_view_module_version": "2.0.0",
      "_view_name": "StyleView",
      "bar_color": null,
      "description_width": ""
     }
    },
    "520c720a521c45cca11f444b37bf7d7c": {
     "model_module": "@jupyter-widgets/base",
     "model_module_version": "2.0.0",
     "model_name": "LayoutModel",
     "state": {
      "_model_module": "@jupyter-widgets/base",
      "_model_module_version": "2.0.0",
      "_model_name": "LayoutModel",
      "_view_count": null,
      "_view_module": "@jupyter-widgets/base",
      "_view_module_version": "2.0.0",
      "_view_name": "LayoutView",
      "align_content": null,
      "align_items": null,
      "align_self": null,
      "border_bottom": null,
      "border_left": null,
      "border_right": null,
      "border_top": null,
      "bottom": null,
      "display": null,
      "flex": null,
      "flex_flow": null,
      "grid_area": null,
      "grid_auto_columns": null,
      "grid_auto_flow": null,
      "grid_auto_rows": null,
      "grid_column": null,
      "grid_gap": null,
      "grid_row": null,
      "grid_template_areas": null,
      "grid_template_columns": null,
      "grid_template_rows": null,
      "height": null,
      "justify_content": null,
      "justify_items": null,
      "left": null,
      "margin": null,
      "max_height": null,
      "max_width": null,
      "min_height": null,
      "min_width": null,
      "object_fit": null,
      "object_position": null,
      "order": null,
      "overflow": null,
      "padding": null,
      "right": null,
      "top": null,
      "visibility": null,
      "width": null
     }
    },
    "521c031c3b684bcf8bcb9d70e54b4134": {
     "model_module": "@jupyter-widgets/base",
     "model_module_version": "2.0.0",
     "model_name": "LayoutModel",
     "state": {
      "_model_module": "@jupyter-widgets/base",
      "_model_module_version": "2.0.0",
      "_model_name": "LayoutModel",
      "_view_count": null,
      "_view_module": "@jupyter-widgets/base",
      "_view_module_version": "2.0.0",
      "_view_name": "LayoutView",
      "align_content": null,
      "align_items": null,
      "align_self": null,
      "border_bottom": null,
      "border_left": null,
      "border_right": null,
      "border_top": null,
      "bottom": null,
      "display": null,
      "flex": null,
      "flex_flow": null,
      "grid_area": null,
      "grid_auto_columns": null,
      "grid_auto_flow": null,
      "grid_auto_rows": null,
      "grid_column": null,
      "grid_gap": null,
      "grid_row": null,
      "grid_template_areas": null,
      "grid_template_columns": null,
      "grid_template_rows": null,
      "height": null,
      "justify_content": null,
      "justify_items": null,
      "left": null,
      "margin": null,
      "max_height": null,
      "max_width": null,
      "min_height": null,
      "min_width": null,
      "object_fit": null,
      "object_position": null,
      "order": null,
      "overflow": null,
      "padding": null,
      "right": null,
      "top": null,
      "visibility": null,
      "width": null
     }
    },
    "53efd7d726ad4dd0935a6717a0bfb247": {
     "model_module": "@jupyter-widgets/controls",
     "model_module_version": "2.0.0",
     "model_name": "ProgressStyleModel",
     "state": {
      "_model_module": "@jupyter-widgets/controls",
      "_model_module_version": "2.0.0",
      "_model_name": "ProgressStyleModel",
      "_view_count": null,
      "_view_module": "@jupyter-widgets/base",
      "_view_module_version": "2.0.0",
      "_view_name": "StyleView",
      "bar_color": null,
      "description_width": ""
     }
    },
    "5708c2ea5ce341939f4310ffc0fa00e9": {
     "model_module": "@jupyter-widgets/controls",
     "model_module_version": "2.0.0",
     "model_name": "FloatProgressModel",
     "state": {
      "_dom_classes": [],
      "_model_module": "@jupyter-widgets/controls",
      "_model_module_version": "2.0.0",
      "_model_name": "FloatProgressModel",
      "_view_count": null,
      "_view_module": "@jupyter-widgets/controls",
      "_view_module_version": "2.0.0",
      "_view_name": "ProgressView",
      "bar_style": "success",
      "description": "",
      "description_allow_html": false,
      "layout": "IPY_MODEL_a03aa61066ed4f65bbcd7542e401cc43",
      "max": 231508,
      "min": 0,
      "orientation": "horizontal",
      "style": "IPY_MODEL_f4870426291740a3823edfe192318bdb",
      "tabbable": null,
      "tooltip": null,
      "value": 231508
     }
    },
    "5a273201f4fc47b8b94cabc7b1e03ea7": {
     "model_module": "@jupyter-widgets/base",
     "model_module_version": "2.0.0",
     "model_name": "LayoutModel",
     "state": {
      "_model_module": "@jupyter-widgets/base",
      "_model_module_version": "2.0.0",
      "_model_name": "LayoutModel",
      "_view_count": null,
      "_view_module": "@jupyter-widgets/base",
      "_view_module_version": "2.0.0",
      "_view_name": "LayoutView",
      "align_content": null,
      "align_items": null,
      "align_self": null,
      "border_bottom": null,
      "border_left": null,
      "border_right": null,
      "border_top": null,
      "bottom": null,
      "display": null,
      "flex": null,
      "flex_flow": null,
      "grid_area": null,
      "grid_auto_columns": null,
      "grid_auto_flow": null,
      "grid_auto_rows": null,
      "grid_column": null,
      "grid_gap": null,
      "grid_row": null,
      "grid_template_areas": null,
      "grid_template_columns": null,
      "grid_template_rows": null,
      "height": null,
      "justify_content": null,
      "justify_items": null,
      "left": null,
      "margin": null,
      "max_height": null,
      "max_width": null,
      "min_height": null,
      "min_width": null,
      "object_fit": null,
      "object_position": null,
      "order": null,
      "overflow": null,
      "padding": null,
      "right": null,
      "top": null,
      "visibility": null,
      "width": null
     }
    },
    "5b36b01c97c844e9ae36c0a7c45dbf90": {
     "model_module": "@jupyter-widgets/controls",
     "model_module_version": "2.0.0",
     "model_name": "ProgressStyleModel",
     "state": {
      "_model_module": "@jupyter-widgets/controls",
      "_model_module_version": "2.0.0",
      "_model_name": "ProgressStyleModel",
      "_view_count": null,
      "_view_module": "@jupyter-widgets/base",
      "_view_module_version": "2.0.0",
      "_view_name": "StyleView",
      "bar_color": null,
      "description_width": ""
     }
    },
    "5b7a123a06cd4004b64c7d4e364fd80a": {
     "model_module": "@jupyter-widgets/controls",
     "model_module_version": "2.0.0",
     "model_name": "HTMLStyleModel",
     "state": {
      "_model_module": "@jupyter-widgets/controls",
      "_model_module_version": "2.0.0",
      "_model_name": "HTMLStyleModel",
      "_view_count": null,
      "_view_module": "@jupyter-widgets/base",
      "_view_module_version": "2.0.0",
      "_view_name": "StyleView",
      "background": null,
      "description_width": "",
      "font_size": null,
      "text_color": null
     }
    },
    "5d656af6bb834d6e8d4d66f7766cbd2c": {
     "model_module": "@jupyter-widgets/controls",
     "model_module_version": "2.0.0",
     "model_name": "HTMLModel",
     "state": {
      "_dom_classes": [],
      "_model_module": "@jupyter-widgets/controls",
      "_model_module_version": "2.0.0",
      "_model_name": "HTMLModel",
      "_view_count": null,
      "_view_module": "@jupyter-widgets/controls",
      "_view_module_version": "2.0.0",
      "_view_name": "HTMLView",
      "description": "",
      "description_allow_html": false,
      "layout": "IPY_MODEL_a665e7b234d84c56a94745993e66dcd7",
      "placeholder": "​",
      "style": "IPY_MODEL_fdbfec08cdaf46379354af8a2a93735b",
      "tabbable": null,
      "tooltip": null,
      "value": " 1.55k/1.55k [00:00&lt;00:00, 37.6kB/s]"
     }
    },
    "6077318d7aae4b9ebe3a27c31374f416": {
     "model_module": "@jupyter-widgets/base",
     "model_module_version": "2.0.0",
     "model_name": "LayoutModel",
     "state": {
      "_model_module": "@jupyter-widgets/base",
      "_model_module_version": "2.0.0",
      "_model_name": "LayoutModel",
      "_view_count": null,
      "_view_module": "@jupyter-widgets/base",
      "_view_module_version": "2.0.0",
      "_view_name": "LayoutView",
      "align_content": null,
      "align_items": null,
      "align_self": null,
      "border_bottom": null,
      "border_left": null,
      "border_right": null,
      "border_top": null,
      "bottom": null,
      "display": null,
      "flex": null,
      "flex_flow": null,
      "grid_area": null,
      "grid_auto_columns": null,
      "grid_auto_flow": null,
      "grid_auto_rows": null,
      "grid_column": null,
      "grid_gap": null,
      "grid_row": null,
      "grid_template_areas": null,
      "grid_template_columns": null,
      "grid_template_rows": null,
      "height": null,
      "justify_content": null,
      "justify_items": null,
      "left": null,
      "margin": null,
      "max_height": null,
      "max_width": null,
      "min_height": null,
      "min_width": null,
      "object_fit": null,
      "object_position": null,
      "order": null,
      "overflow": null,
      "padding": null,
      "right": null,
      "top": null,
      "visibility": null,
      "width": null
     }
    },
    "6139bc3a3ed74012989706ba52482e9e": {
     "model_module": "@jupyter-widgets/controls",
     "model_module_version": "2.0.0",
     "model_name": "HTMLStyleModel",
     "state": {
      "_model_module": "@jupyter-widgets/controls",
      "_model_module_version": "2.0.0",
      "_model_name": "HTMLStyleModel",
      "_view_count": null,
      "_view_module": "@jupyter-widgets/base",
      "_view_module_version": "2.0.0",
      "_view_name": "StyleView",
      "background": null,
      "description_width": "",
      "font_size": null,
      "text_color": null
     }
    },
    "621bd343ba9b4906bb2c5a625507ccb3": {
     "model_module": "@jupyter-widgets/controls",
     "model_module_version": "2.0.0",
     "model_name": "HTMLStyleModel",
     "state": {
      "_model_module": "@jupyter-widgets/controls",
      "_model_module_version": "2.0.0",
      "_model_name": "HTMLStyleModel",
      "_view_count": null,
      "_view_module": "@jupyter-widgets/base",
      "_view_module_version": "2.0.0",
      "_view_name": "StyleView",
      "background": null,
      "description_width": "",
      "font_size": null,
      "text_color": null
     }
    },
    "62b87d61043943c5976f2b3f205a9b01": {
     "model_module": "@jupyter-widgets/controls",
     "model_module_version": "2.0.0",
     "model_name": "HTMLModel",
     "state": {
      "_dom_classes": [],
      "_model_module": "@jupyter-widgets/controls",
      "_model_module_version": "2.0.0",
      "_model_name": "HTMLModel",
      "_view_count": null,
      "_view_module": "@jupyter-widgets/controls",
      "_view_module_version": "2.0.0",
      "_view_name": "HTMLView",
      "description": "",
      "description_allow_html": false,
      "layout": "IPY_MODEL_c808c6aa656548d7b5d9e7fca96811f4",
      "placeholder": "​",
      "style": "IPY_MODEL_adbe02696286450d9fccab768ff62353",
      "tabbable": null,
      "tooltip": null,
      "value": "Downloading config.json: 100%"
     }
    },
    "6a4bc30a6e924d0b8dbb7bb040404e3a": {
     "model_module": "@jupyter-widgets/controls",
     "model_module_version": "2.0.0",
     "model_name": "HTMLModel",
     "state": {
      "_dom_classes": [],
      "_model_module": "@jupyter-widgets/controls",
      "_model_module_version": "2.0.0",
      "_model_name": "HTMLModel",
      "_view_count": null,
      "_view_module": "@jupyter-widgets/controls",
      "_view_module_version": "2.0.0",
      "_view_name": "HTMLView",
      "description": "",
      "description_allow_html": false,
      "layout": "IPY_MODEL_c2e0b56c73934655b8c7d57b7ffbd3cc",
      "placeholder": "​",
      "style": "IPY_MODEL_bc11d18221c943f5b896e295d27aa486",
      "tabbable": null,
      "tooltip": null,
      "value": " 446k/446k [00:00&lt;00:00, 6.96MB/s]"
     }
    },
    "6e7935f3a1d14ee587d1b6739fea651b": {
     "model_module": "@jupyter-widgets/controls",
     "model_module_version": "2.0.0",
     "model_name": "ProgressStyleModel",
     "state": {
      "_model_module": "@jupyter-widgets/controls",
      "_model_module_version": "2.0.0",
      "_model_name": "ProgressStyleModel",
      "_view_count": null,
      "_view_module": "@jupyter-widgets/base",
      "_view_module_version": "2.0.0",
      "_view_name": "StyleView",
      "bar_color": null,
      "description_width": ""
     }
    },
    "719bae0abef749319c46aede0265c11b": {
     "model_module": "@jupyter-widgets/controls",
     "model_module_version": "2.0.0",
     "model_name": "FloatProgressModel",
     "state": {
      "_dom_classes": [],
      "_model_module": "@jupyter-widgets/controls",
      "_model_module_version": "2.0.0",
      "_model_name": "FloatProgressModel",
      "_view_count": null,
      "_view_module": "@jupyter-widgets/controls",
      "_view_module_version": "2.0.0",
      "_view_name": "ProgressView",
      "bar_style": "success",
      "description": "",
      "description_allow_html": false,
      "layout": "IPY_MODEL_e75405a14d3e482f87c198bc9bdc9414",
      "max": 898823,
      "min": 0,
      "orientation": "horizontal",
      "style": "IPY_MODEL_53efd7d726ad4dd0935a6717a0bfb247",
      "tabbable": null,
      "tooltip": null,
      "value": 898823
     }
    },
    "78b266acc821494592130c7d80a7e6a3": {
     "model_module": "@jupyter-widgets/base",
     "model_module_version": "2.0.0",
     "model_name": "LayoutModel",
     "state": {
      "_model_module": "@jupyter-widgets/base",
      "_model_module_version": "2.0.0",
      "_model_name": "LayoutModel",
      "_view_count": null,
      "_view_module": "@jupyter-widgets/base",
      "_view_module_version": "2.0.0",
      "_view_name": "LayoutView",
      "align_content": null,
      "align_items": null,
      "align_self": null,
      "border_bottom": null,
      "border_left": null,
      "border_right": null,
      "border_top": null,
      "bottom": null,
      "display": null,
      "flex": null,
      "flex_flow": null,
      "grid_area": null,
      "grid_auto_columns": null,
      "grid_auto_flow": null,
      "grid_auto_rows": null,
      "grid_column": null,
      "grid_gap": null,
      "grid_row": null,
      "grid_template_areas": null,
      "grid_template_columns": null,
      "grid_template_rows": null,
      "height": null,
      "justify_content": null,
      "justify_items": null,
      "left": null,
      "margin": null,
      "max_height": null,
      "max_width": null,
      "min_height": null,
      "min_width": null,
      "object_fit": null,
      "object_position": null,
      "order": null,
      "overflow": null,
      "padding": null,
      "right": null,
      "top": null,
      "visibility": null,
      "width": null
     }
    },
    "79453dbe54cf4992999fc2163388581a": {
     "model_module": "@jupyter-widgets/base",
     "model_module_version": "2.0.0",
     "model_name": "LayoutModel",
     "state": {
      "_model_module": "@jupyter-widgets/base",
      "_model_module_version": "2.0.0",
      "_model_name": "LayoutModel",
      "_view_count": null,
      "_view_module": "@jupyter-widgets/base",
      "_view_module_version": "2.0.0",
      "_view_name": "LayoutView",
      "align_content": null,
      "align_items": null,
      "align_self": null,
      "border_bottom": null,
      "border_left": null,
      "border_right": null,
      "border_top": null,
      "bottom": null,
      "display": null,
      "flex": null,
      "flex_flow": null,
      "grid_area": null,
      "grid_auto_columns": null,
      "grid_auto_flow": null,
      "grid_auto_rows": null,
      "grid_column": null,
      "grid_gap": null,
      "grid_row": null,
      "grid_template_areas": null,
      "grid_template_columns": null,
      "grid_template_rows": null,
      "height": null,
      "justify_content": null,
      "justify_items": null,
      "left": null,
      "margin": null,
      "max_height": null,
      "max_width": null,
      "min_height": null,
      "min_width": null,
      "object_fit": null,
      "object_position": null,
      "order": null,
      "overflow": null,
      "padding": null,
      "right": null,
      "top": null,
      "visibility": null,
      "width": null
     }
    },
    "81a7a862b1a44bd9be7dea180452c605": {
     "model_module": "@jupyter-widgets/base",
     "model_module_version": "2.0.0",
     "model_name": "LayoutModel",
     "state": {
      "_model_module": "@jupyter-widgets/base",
      "_model_module_version": "2.0.0",
      "_model_name": "LayoutModel",
      "_view_count": null,
      "_view_module": "@jupyter-widgets/base",
      "_view_module_version": "2.0.0",
      "_view_name": "LayoutView",
      "align_content": null,
      "align_items": null,
      "align_self": null,
      "border_bottom": null,
      "border_left": null,
      "border_right": null,
      "border_top": null,
      "bottom": null,
      "display": null,
      "flex": null,
      "flex_flow": null,
      "grid_area": null,
      "grid_auto_columns": null,
      "grid_auto_flow": null,
      "grid_auto_rows": null,
      "grid_column": null,
      "grid_gap": null,
      "grid_row": null,
      "grid_template_areas": null,
      "grid_template_columns": null,
      "grid_template_rows": null,
      "height": null,
      "justify_content": null,
      "justify_items": null,
      "left": null,
      "margin": null,
      "max_height": null,
      "max_width": null,
      "min_height": null,
      "min_width": null,
      "object_fit": null,
      "object_position": null,
      "order": null,
      "overflow": null,
      "padding": null,
      "right": null,
      "top": null,
      "visibility": null,
      "width": null
     }
    },
    "834f3bfae6214811af8f1c5ae25947b1": {
     "model_module": "@jupyter-widgets/controls",
     "model_module_version": "2.0.0",
     "model_name": "HTMLModel",
     "state": {
      "_dom_classes": [],
      "_model_module": "@jupyter-widgets/controls",
      "_model_module_version": "2.0.0",
      "_model_name": "HTMLModel",
      "_view_count": null,
      "_view_module": "@jupyter-widgets/controls",
      "_view_module_version": "2.0.0",
      "_view_name": "HTMLView",
      "description": "",
      "description_allow_html": false,
      "layout": "IPY_MODEL_b2fa817ecf6a49cda3f1349ae826bd0d",
      "placeholder": "​",
      "style": "IPY_MODEL_eac4c8daef734cac80a13c574ae6db1d",
      "tabbable": null,
      "tooltip": null,
      "value": "Downloading pytorch_model.bin: 100%"
     }
    },
    "83cf24d94a6348c0b1e66135e11abdc9": {
     "model_module": "@jupyter-widgets/controls",
     "model_module_version": "2.0.0",
     "model_name": "HTMLModel",
     "state": {
      "_dom_classes": [],
      "_model_module": "@jupyter-widgets/controls",
      "_model_module_version": "2.0.0",
      "_model_name": "HTMLModel",
      "_view_count": null,
      "_view_module": "@jupyter-widgets/controls",
      "_view_module_version": "2.0.0",
      "_view_name": "HTMLView",
      "description": "",
      "description_allow_html": false,
      "layout": "IPY_MODEL_d6e51fc6ca134b2babd03d900bfc3763",
      "placeholder": "​",
      "style": "IPY_MODEL_38e11bd763f244cab2694b792c7892dc",
      "tabbable": null,
      "tooltip": null,
      "value": " 1.29M/1.29M [00:00&lt;00:00, 14.6MB/s]"
     }
    },
    "87a491c6eb8c4fb68011e100194468ba": {
     "model_module": "@jupyter-widgets/controls",
     "model_module_version": "2.0.0",
     "model_name": "HTMLModel",
     "state": {
      "_dom_classes": [],
      "_model_module": "@jupyter-widgets/controls",
      "_model_module_version": "2.0.0",
      "_model_name": "HTMLModel",
      "_view_count": null,
      "_view_module": "@jupyter-widgets/controls",
      "_view_module_version": "2.0.0",
      "_view_name": "HTMLView",
      "description": "",
      "description_allow_html": false,
      "layout": "IPY_MODEL_22e46e8030e047a2b366a2d7179c7854",
      "placeholder": "​",
      "style": "IPY_MODEL_2fa75b25aaa8435eb9a6c3cad44913bd",
      "tabbable": null,
      "tooltip": null,
      "value": " 48.0/48.0 [00:00&lt;00:00, 759B/s]"
     }
    },
    "8f46209fa653416d9dec4c9715d112b6": {
     "model_module": "@jupyter-widgets/base",
     "model_module_version": "2.0.0",
     "model_name": "LayoutModel",
     "state": {
      "_model_module": "@jupyter-widgets/base",
      "_model_module_version": "2.0.0",
      "_model_name": "LayoutModel",
      "_view_count": null,
      "_view_module": "@jupyter-widgets/base",
      "_view_module_version": "2.0.0",
      "_view_name": "LayoutView",
      "align_content": null,
      "align_items": null,
      "align_self": null,
      "border_bottom": null,
      "border_left": null,
      "border_right": null,
      "border_top": null,
      "bottom": null,
      "display": null,
      "flex": null,
      "flex_flow": null,
      "grid_area": null,
      "grid_auto_columns": null,
      "grid_auto_flow": null,
      "grid_auto_rows": null,
      "grid_column": null,
      "grid_gap": null,
      "grid_row": null,
      "grid_template_areas": null,
      "grid_template_columns": null,
      "grid_template_rows": null,
      "height": null,
      "justify_content": null,
      "justify_items": null,
      "left": null,
      "margin": null,
      "max_height": null,
      "max_width": null,
      "min_height": null,
      "min_width": null,
      "object_fit": null,
      "object_position": null,
      "order": null,
      "overflow": null,
      "padding": null,
      "right": null,
      "top": null,
      "visibility": null,
      "width": null
     }
    },
    "920ecdce410344f89a8808df63ff666e": {
     "model_module": "@jupyter-widgets/controls",
     "model_module_version": "2.0.0",
     "model_name": "HBoxModel",
     "state": {
      "_dom_classes": [],
      "_model_module": "@jupyter-widgets/controls",
      "_model_module_version": "2.0.0",
      "_model_name": "HBoxModel",
      "_view_count": null,
      "_view_module": "@jupyter-widgets/controls",
      "_view_module_version": "2.0.0",
      "_view_name": "HBoxView",
      "box_style": "",
      "children": [
       "IPY_MODEL_03881cae6124459b8a86a0168fa7a629",
       "IPY_MODEL_5708c2ea5ce341939f4310ffc0fa00e9",
       "IPY_MODEL_bebfe839ad774e109f8946f7d1c73e47"
      ],
      "layout": "IPY_MODEL_e1d54b2d0f184f048c6de85a2ead64d8",
      "tabbable": null,
      "tooltip": null
     }
    },
    "966a54ea3ac4449299d802c433f7945d": {
     "model_module": "@jupyter-widgets/base",
     "model_module_version": "2.0.0",
     "model_name": "LayoutModel",
     "state": {
      "_model_module": "@jupyter-widgets/base",
      "_model_module_version": "2.0.0",
      "_model_name": "LayoutModel",
      "_view_count": null,
      "_view_module": "@jupyter-widgets/base",
      "_view_module_version": "2.0.0",
      "_view_name": "LayoutView",
      "align_content": null,
      "align_items": null,
      "align_self": null,
      "border_bottom": null,
      "border_left": null,
      "border_right": null,
      "border_top": null,
      "bottom": null,
      "display": null,
      "flex": null,
      "flex_flow": null,
      "grid_area": null,
      "grid_auto_columns": null,
      "grid_auto_flow": null,
      "grid_auto_rows": null,
      "grid_column": null,
      "grid_gap": null,
      "grid_row": null,
      "grid_template_areas": null,
      "grid_template_columns": null,
      "grid_template_rows": null,
      "height": null,
      "justify_content": null,
      "justify_items": null,
      "left": null,
      "margin": null,
      "max_height": null,
      "max_width": null,
      "min_height": null,
      "min_width": null,
      "object_fit": null,
      "object_position": null,
      "order": null,
      "overflow": null,
      "padding": null,
      "right": null,
      "top": null,
      "visibility": null,
      "width": null
     }
    },
    "9b5c7ea77cde409ba6f2a60d44c7a273": {
     "model_module": "@jupyter-widgets/controls",
     "model_module_version": "2.0.0",
     "model_name": "FloatProgressModel",
     "state": {
      "_dom_classes": [],
      "_model_module": "@jupyter-widgets/controls",
      "_model_module_version": "2.0.0",
      "_model_name": "FloatProgressModel",
      "_view_count": null,
      "_view_module": "@jupyter-widgets/controls",
      "_view_module_version": "2.0.0",
      "_view_name": "ProgressView",
      "bar_style": "success",
      "description": "",
      "description_allow_html": false,
      "layout": "IPY_MODEL_79453dbe54cf4992999fc2163388581a",
      "max": 456318,
      "min": 0,
      "orientation": "horizontal",
      "style": "IPY_MODEL_4e5f4014c54e4932911a560dc5e10074",
      "tabbable": null,
      "tooltip": null,
      "value": 456318
     }
    },
    "9ef7e910b96a4af99a69ce96b921d969": {
     "model_module": "@jupyter-widgets/base",
     "model_module_version": "2.0.0",
     "model_name": "LayoutModel",
     "state": {
      "_model_module": "@jupyter-widgets/base",
      "_model_module_version": "2.0.0",
      "_model_name": "LayoutModel",
      "_view_count": null,
      "_view_module": "@jupyter-widgets/base",
      "_view_module_version": "2.0.0",
      "_view_name": "LayoutView",
      "align_content": null,
      "align_items": null,
      "align_self": null,
      "border_bottom": null,
      "border_left": null,
      "border_right": null,
      "border_top": null,
      "bottom": null,
      "display": null,
      "flex": null,
      "flex_flow": null,
      "grid_area": null,
      "grid_auto_columns": null,
      "grid_auto_flow": null,
      "grid_auto_rows": null,
      "grid_column": null,
      "grid_gap": null,
      "grid_row": null,
      "grid_template_areas": null,
      "grid_template_columns": null,
      "grid_template_rows": null,
      "height": null,
      "justify_content": null,
      "justify_items": null,
      "left": null,
      "margin": null,
      "max_height": null,
      "max_width": null,
      "min_height": null,
      "min_width": null,
      "object_fit": null,
      "object_position": null,
      "order": null,
      "overflow": null,
      "padding": null,
      "right": null,
      "top": null,
      "visibility": null,
      "width": null
     }
    },
    "a03aa61066ed4f65bbcd7542e401cc43": {
     "model_module": "@jupyter-widgets/base",
     "model_module_version": "2.0.0",
     "model_name": "LayoutModel",
     "state": {
      "_model_module": "@jupyter-widgets/base",
      "_model_module_version": "2.0.0",
      "_model_name": "LayoutModel",
      "_view_count": null,
      "_view_module": "@jupyter-widgets/base",
      "_view_module_version": "2.0.0",
      "_view_name": "LayoutView",
      "align_content": null,
      "align_items": null,
      "align_self": null,
      "border_bottom": null,
      "border_left": null,
      "border_right": null,
      "border_top": null,
      "bottom": null,
      "display": null,
      "flex": null,
      "flex_flow": null,
      "grid_area": null,
      "grid_auto_columns": null,
      "grid_auto_flow": null,
      "grid_auto_rows": null,
      "grid_column": null,
      "grid_gap": null,
      "grid_row": null,
      "grid_template_areas": null,
      "grid_template_columns": null,
      "grid_template_rows": null,
      "height": null,
      "justify_content": null,
      "justify_items": null,
      "left": null,
      "margin": null,
      "max_height": null,
      "max_width": null,
      "min_height": null,
      "min_width": null,
      "object_fit": null,
      "object_position": null,
      "order": null,
      "overflow": null,
      "padding": null,
      "right": null,
      "top": null,
      "visibility": null,
      "width": null
     }
    },
    "a105e247dda940ddb5503494ea2592d2": {
     "model_module": "@jupyter-widgets/controls",
     "model_module_version": "2.0.0",
     "model_name": "HTMLStyleModel",
     "state": {
      "_model_module": "@jupyter-widgets/controls",
      "_model_module_version": "2.0.0",
      "_model_name": "HTMLStyleModel",
      "_view_count": null,
      "_view_module": "@jupyter-widgets/base",
      "_view_module_version": "2.0.0",
      "_view_name": "StyleView",
      "background": null,
      "description_width": "",
      "font_size": null,
      "text_color": null
     }
    },
    "a1ac4fc72834497e80bb03b0ad6424b9": {
     "model_module": "@jupyter-widgets/controls",
     "model_module_version": "2.0.0",
     "model_name": "HTMLStyleModel",
     "state": {
      "_model_module": "@jupyter-widgets/controls",
      "_model_module_version": "2.0.0",
      "_model_name": "HTMLStyleModel",
      "_view_count": null,
      "_view_module": "@jupyter-widgets/base",
      "_view_module_version": "2.0.0",
      "_view_name": "StyleView",
      "background": null,
      "description_width": "",
      "font_size": null,
      "text_color": null
     }
    },
    "a53317129b6b4f94a94aa835db0d77d5": {
     "model_module": "@jupyter-widgets/controls",
     "model_module_version": "2.0.0",
     "model_name": "FloatProgressModel",
     "state": {
      "_dom_classes": [],
      "_model_module": "@jupyter-widgets/controls",
      "_model_module_version": "2.0.0",
      "_model_name": "FloatProgressModel",
      "_view_count": null,
      "_view_module": "@jupyter-widgets/controls",
      "_view_module_version": "2.0.0",
      "_view_name": "ProgressView",
      "bar_style": "success",
      "description": "",
      "description_allow_html": false,
      "layout": "IPY_MODEL_9ef7e910b96a4af99a69ce96b921d969",
      "max": 629,
      "min": 0,
      "orientation": "horizontal",
      "style": "IPY_MODEL_6e7935f3a1d14ee587d1b6739fea651b",
      "tabbable": null,
      "tooltip": null,
      "value": 629
     }
    },
    "a665e7b234d84c56a94745993e66dcd7": {
     "model_module": "@jupyter-widgets/base",
     "model_module_version": "2.0.0",
     "model_name": "LayoutModel",
     "state": {
      "_model_module": "@jupyter-widgets/base",
      "_model_module_version": "2.0.0",
      "_model_name": "LayoutModel",
      "_view_count": null,
      "_view_module": "@jupyter-widgets/base",
      "_view_module_version": "2.0.0",
      "_view_name": "LayoutView",
      "align_content": null,
      "align_items": null,
      "align_self": null,
      "border_bottom": null,
      "border_left": null,
      "border_right": null,
      "border_top": null,
      "bottom": null,
      "display": null,
      "flex": null,
      "flex_flow": null,
      "grid_area": null,
      "grid_auto_columns": null,
      "grid_auto_flow": null,
      "grid_auto_rows": null,
      "grid_column": null,
      "grid_gap": null,
      "grid_row": null,
      "grid_template_areas": null,
      "grid_template_columns": null,
      "grid_template_rows": null,
      "height": null,
      "justify_content": null,
      "justify_items": null,
      "left": null,
      "margin": null,
      "max_height": null,
      "max_width": null,
      "min_height": null,
      "min_width": null,
      "object_fit": null,
      "object_position": null,
      "order": null,
      "overflow": null,
      "padding": null,
      "right": null,
      "top": null,
      "visibility": null,
      "width": null
     }
    },
    "ac07a83723294bdfa631949cc6f601d6": {
     "model_module": "@jupyter-widgets/controls",
     "model_module_version": "2.0.0",
     "model_name": "ProgressStyleModel",
     "state": {
      "_model_module": "@jupyter-widgets/controls",
      "_model_module_version": "2.0.0",
      "_model_name": "ProgressStyleModel",
      "_view_count": null,
      "_view_module": "@jupyter-widgets/base",
      "_view_module_version": "2.0.0",
      "_view_name": "StyleView",
      "bar_color": null,
      "description_width": ""
     }
    },
    "adbe02696286450d9fccab768ff62353": {
     "model_module": "@jupyter-widgets/controls",
     "model_module_version": "2.0.0",
     "model_name": "HTMLStyleModel",
     "state": {
      "_model_module": "@jupyter-widgets/controls",
      "_model_module_version": "2.0.0",
      "_model_name": "HTMLStyleModel",
      "_view_count": null,
      "_view_module": "@jupyter-widgets/base",
      "_view_module_version": "2.0.0",
      "_view_name": "StyleView",
      "background": null,
      "description_width": "",
      "font_size": null,
      "text_color": null
     }
    },
    "ae12e45bc90c45959413f9ca932320a3": {
     "model_module": "@jupyter-widgets/controls",
     "model_module_version": "2.0.0",
     "model_name": "HTMLModel",
     "state": {
      "_dom_classes": [],
      "_model_module": "@jupyter-widgets/controls",
      "_model_module_version": "2.0.0",
      "_model_name": "HTMLModel",
      "_view_count": null,
      "_view_module": "@jupyter-widgets/controls",
      "_view_module_version": "2.0.0",
      "_view_name": "HTMLView",
      "description": "",
      "description_allow_html": false,
      "layout": "IPY_MODEL_302deed8eb6a4a9bb893303849b4219b",
      "placeholder": "​",
      "style": "IPY_MODEL_dfa654c7c6184bfd8f70011dd7934ca7",
      "tabbable": null,
      "tooltip": null,
      "value": "Downloading tokenizer.json: 100%"
     }
    },
    "b190f00f8d094148ac59c2f9aa72ed28": {
     "model_module": "@jupyter-widgets/controls",
     "model_module_version": "2.0.0",
     "model_name": "HBoxModel",
     "state": {
      "_dom_classes": [],
      "_model_module": "@jupyter-widgets/controls",
      "_model_module_version": "2.0.0",
      "_model_name": "HBoxModel",
      "_view_count": null,
      "_view_module": "@jupyter-widgets/controls",
      "_view_module_version": "2.0.0",
      "_view_name": "HBoxView",
      "box_style": "",
      "children": [
       "IPY_MODEL_d065c6a1ab9c41af8421ac2eaeb993d6",
       "IPY_MODEL_a53317129b6b4f94a94aa835db0d77d5",
       "IPY_MODEL_0b6fa626c1dd4a479552e1251f1c28e8"
      ],
      "layout": "IPY_MODEL_d204d10fe9084a0198e0ce1abf00d26d",
      "tabbable": null,
      "tooltip": null
     }
    },
    "b27004fe582146e9b0a36297cf0e5a7f": {
     "model_module": "@jupyter-widgets/base",
     "model_module_version": "2.0.0",
     "model_name": "LayoutModel",
     "state": {
      "_model_module": "@jupyter-widgets/base",
      "_model_module_version": "2.0.0",
      "_model_name": "LayoutModel",
      "_view_count": null,
      "_view_module": "@jupyter-widgets/base",
      "_view_module_version": "2.0.0",
      "_view_name": "LayoutView",
      "align_content": null,
      "align_items": null,
      "align_self": null,
      "border_bottom": null,
      "border_left": null,
      "border_right": null,
      "border_top": null,
      "bottom": null,
      "display": null,
      "flex": null,
      "flex_flow": null,
      "grid_area": null,
      "grid_auto_columns": null,
      "grid_auto_flow": null,
      "grid_auto_rows": null,
      "grid_column": null,
      "grid_gap": null,
      "grid_row": null,
      "grid_template_areas": null,
      "grid_template_columns": null,
      "grid_template_rows": null,
      "height": null,
      "justify_content": null,
      "justify_items": null,
      "left": null,
      "margin": null,
      "max_height": null,
      "max_width": null,
      "min_height": null,
      "min_width": null,
      "object_fit": null,
      "object_position": null,
      "order": null,
      "overflow": null,
      "padding": null,
      "right": null,
      "top": null,
      "visibility": null,
      "width": null
     }
    },
    "b2fa817ecf6a49cda3f1349ae826bd0d": {
     "model_module": "@jupyter-widgets/base",
     "model_module_version": "2.0.0",
     "model_name": "LayoutModel",
     "state": {
      "_model_module": "@jupyter-widgets/base",
      "_model_module_version": "2.0.0",
      "_model_name": "LayoutModel",
      "_view_count": null,
      "_view_module": "@jupyter-widgets/base",
      "_view_module_version": "2.0.0",
      "_view_name": "LayoutView",
      "align_content": null,
      "align_items": null,
      "align_self": null,
      "border_bottom": null,
      "border_left": null,
      "border_right": null,
      "border_top": null,
      "bottom": null,
      "display": null,
      "flex": null,
      "flex_flow": null,
      "grid_area": null,
      "grid_auto_columns": null,
      "grid_auto_flow": null,
      "grid_auto_rows": null,
      "grid_column": null,
      "grid_gap": null,
      "grid_row": null,
      "grid_template_areas": null,
      "grid_template_columns": null,
      "grid_template_rows": null,
      "height": null,
      "justify_content": null,
      "justify_items": null,
      "left": null,
      "margin": null,
      "max_height": null,
      "max_width": null,
      "min_height": null,
      "min_width": null,
      "object_fit": null,
      "object_position": null,
      "order": null,
      "overflow": null,
      "padding": null,
      "right": null,
      "top": null,
      "visibility": null,
      "width": null
     }
    },
    "baf0847b7231439eb6ec54a92c5f59e6": {
     "model_module": "@jupyter-widgets/controls",
     "model_module_version": "2.0.0",
     "model_name": "HBoxModel",
     "state": {
      "_dom_classes": [],
      "_model_module": "@jupyter-widgets/controls",
      "_model_module_version": "2.0.0",
      "_model_name": "HBoxModel",
      "_view_count": null,
      "_view_module": "@jupyter-widgets/controls",
      "_view_module_version": "2.0.0",
      "_view_name": "HBoxView",
      "box_style": "",
      "children": [
       "IPY_MODEL_ae12e45bc90c45959413f9ca932320a3",
       "IPY_MODEL_faa7aca49f2544549c2e8ea67eda3401",
       "IPY_MODEL_83cf24d94a6348c0b1e66135e11abdc9"
      ],
      "layout": "IPY_MODEL_81a7a862b1a44bd9be7dea180452c605",
      "tabbable": null,
      "tooltip": null
     }
    },
    "bc11d18221c943f5b896e295d27aa486": {
     "model_module": "@jupyter-widgets/controls",
     "model_module_version": "2.0.0",
     "model_name": "HTMLStyleModel",
     "state": {
      "_model_module": "@jupyter-widgets/controls",
      "_model_module_version": "2.0.0",
      "_model_name": "HTMLStyleModel",
      "_view_count": null,
      "_view_module": "@jupyter-widgets/base",
      "_view_module_version": "2.0.0",
      "_view_name": "StyleView",
      "background": null,
      "description_width": "",
      "font_size": null,
      "text_color": null
     }
    },
    "bcd848e3265641c1a22fd6c8364d4bc5": {
     "model_module": "@jupyter-widgets/controls",
     "model_module_version": "2.0.0",
     "model_name": "HBoxModel",
     "state": {
      "_dom_classes": [],
      "_model_module": "@jupyter-widgets/controls",
      "_model_module_version": "2.0.0",
      "_model_name": "HBoxModel",
      "_view_count": null,
      "_view_module": "@jupyter-widgets/controls",
      "_view_module_version": "2.0.0",
      "_view_name": "HBoxView",
      "box_style": "",
      "children": [
       "IPY_MODEL_bf1f9d2c85d04520a662ca4843088d16",
       "IPY_MODEL_3fed53afbb564006965e5f89402f7eb5",
       "IPY_MODEL_3bba4e92e5684db68991e756db525787"
      ],
      "layout": "IPY_MODEL_8f46209fa653416d9dec4c9715d112b6",
      "tabbable": null,
      "tooltip": null
     }
    },
    "bebfe839ad774e109f8946f7d1c73e47": {
     "model_module": "@jupyter-widgets/controls",
     "model_module_version": "2.0.0",
     "model_name": "HTMLModel",
     "state": {
      "_dom_classes": [],
      "_model_module": "@jupyter-widgets/controls",
      "_model_module_version": "2.0.0",
      "_model_name": "HTMLModel",
      "_view_count": null,
      "_view_module": "@jupyter-widgets/controls",
      "_view_module_version": "2.0.0",
      "_view_name": "HTMLView",
      "description": "",
      "description_allow_html": false,
      "layout": "IPY_MODEL_4148d1ffaa63433a8537911c78a97652",
      "placeholder": "​",
      "style": "IPY_MODEL_5b7a123a06cd4004b64c7d4e364fd80a",
      "tabbable": null,
      "tooltip": null,
      "value": " 226k/226k [00:00&lt;00:00, 4.57MB/s]"
     }
    },
    "bf1f9d2c85d04520a662ca4843088d16": {
     "model_module": "@jupyter-widgets/controls",
     "model_module_version": "2.0.0",
     "model_name": "HTMLModel",
     "state": {
      "_dom_classes": [],
      "_model_module": "@jupyter-widgets/controls",
      "_model_module_version": "2.0.0",
      "_model_name": "HTMLModel",
      "_view_count": null,
      "_view_module": "@jupyter-widgets/controls",
      "_view_module_version": "2.0.0",
      "_view_name": "HTMLView",
      "description": "",
      "description_allow_html": false,
      "layout": "IPY_MODEL_312ac4ca256d4f1085c42b9671bdbdc8",
      "placeholder": "​",
      "style": "IPY_MODEL_eceaf3fc5d5d4a23b7f2d534782bf809",
      "tabbable": null,
      "tooltip": null,
      "value": "Downloading pytorch_model.bin: 100%"
     }
    },
    "c1d9bf66b6284a1aad164a20233a3a4a": {
     "model_module": "@jupyter-widgets/controls",
     "model_module_version": "2.0.0",
     "model_name": "HBoxModel",
     "state": {
      "_dom_classes": [],
      "_model_module": "@jupyter-widgets/controls",
      "_model_module_version": "2.0.0",
      "_model_name": "HBoxModel",
      "_view_count": null,
      "_view_module": "@jupyter-widgets/controls",
      "_view_module_version": "2.0.0",
      "_view_name": "HBoxView",
      "box_style": "",
      "children": [
       "IPY_MODEL_081a61872652492cbd6fa15467b73f51",
       "IPY_MODEL_4a5fb4f616fe4c8f9b0ff3b98c023db6",
       "IPY_MODEL_87a491c6eb8c4fb68011e100194468ba"
      ],
      "layout": "IPY_MODEL_482824d3bda34b2dae46d74b7ecf3356",
      "tabbable": null,
      "tooltip": null
     }
    },
    "c2e0b56c73934655b8c7d57b7ffbd3cc": {
     "model_module": "@jupyter-widgets/base",
     "model_module_version": "2.0.0",
     "model_name": "LayoutModel",
     "state": {
      "_model_module": "@jupyter-widgets/base",
      "_model_module_version": "2.0.0",
      "_model_name": "LayoutModel",
      "_view_count": null,
      "_view_module": "@jupyter-widgets/base",
      "_view_module_version": "2.0.0",
      "_view_name": "LayoutView",
      "align_content": null,
      "align_items": null,
      "align_self": null,
      "border_bottom": null,
      "border_left": null,
      "border_right": null,
      "border_top": null,
      "bottom": null,
      "display": null,
      "flex": null,
      "flex_flow": null,
      "grid_area": null,
      "grid_auto_columns": null,
      "grid_auto_flow": null,
      "grid_auto_rows": null,
      "grid_column": null,
      "grid_gap": null,
      "grid_row": null,
      "grid_template_areas": null,
      "grid_template_columns": null,
      "grid_template_rows": null,
      "height": null,
      "justify_content": null,
      "justify_items": null,
      "left": null,
      "margin": null,
      "max_height": null,
      "max_width": null,
      "min_height": null,
      "min_width": null,
      "object_fit": null,
      "object_position": null,
      "order": null,
      "overflow": null,
      "padding": null,
      "right": null,
      "top": null,
      "visibility": null,
      "width": null
     }
    },
    "c808c6aa656548d7b5d9e7fca96811f4": {
     "model_module": "@jupyter-widgets/base",
     "model_module_version": "2.0.0",
     "model_name": "LayoutModel",
     "state": {
      "_model_module": "@jupyter-widgets/base",
      "_model_module_version": "2.0.0",
      "_model_name": "LayoutModel",
      "_view_count": null,
      "_view_module": "@jupyter-widgets/base",
      "_view_module_version": "2.0.0",
      "_view_name": "LayoutView",
      "align_content": null,
      "align_items": null,
      "align_self": null,
      "border_bottom": null,
      "border_left": null,
      "border_right": null,
      "border_top": null,
      "bottom": null,
      "display": null,
      "flex": null,
      "flex_flow": null,
      "grid_area": null,
      "grid_auto_columns": null,
      "grid_auto_flow": null,
      "grid_auto_rows": null,
      "grid_column": null,
      "grid_gap": null,
      "grid_row": null,
      "grid_template_areas": null,
      "grid_template_columns": null,
      "grid_template_rows": null,
      "height": null,
      "justify_content": null,
      "justify_items": null,
      "left": null,
      "margin": null,
      "max_height": null,
      "max_width": null,
      "min_height": null,
      "min_width": null,
      "object_fit": null,
      "object_position": null,
      "order": null,
      "overflow": null,
      "padding": null,
      "right": null,
      "top": null,
      "visibility": null,
      "width": null
     }
    },
    "cea3300d0937483ba4b55b44b3d973ff": {
     "model_module": "@jupyter-widgets/controls",
     "model_module_version": "2.0.0",
     "model_name": "HBoxModel",
     "state": {
      "_dom_classes": [],
      "_model_module": "@jupyter-widgets/controls",
      "_model_module_version": "2.0.0",
      "_model_name": "HBoxModel",
      "_view_count": null,
      "_view_module": "@jupyter-widgets/controls",
      "_view_module_version": "2.0.0",
      "_view_name": "HBoxView",
      "box_style": "",
      "children": [
       "IPY_MODEL_834f3bfae6214811af8f1c5ae25947b1",
       "IPY_MODEL_2a3023b486ed4b1898ae781b4d516cde",
       "IPY_MODEL_12366f7a6c3043289ce7a958d15e5005"
      ],
      "layout": "IPY_MODEL_f8778790f6e341579a9a38aa08e46867",
      "tabbable": null,
      "tooltip": null
     }
    },
    "d065c6a1ab9c41af8421ac2eaeb993d6": {
     "model_module": "@jupyter-widgets/controls",
     "model_module_version": "2.0.0",
     "model_name": "HTMLModel",
     "state": {
      "_dom_classes": [],
      "_model_module": "@jupyter-widgets/controls",
      "_model_module_version": "2.0.0",
      "_model_name": "HTMLModel",
      "_view_count": null,
      "_view_module": "@jupyter-widgets/controls",
      "_view_module_version": "2.0.0",
      "_view_name": "HTMLView",
      "description": "",
      "description_allow_html": false,
      "layout": "IPY_MODEL_2abb71869c5c4d98bfc7e8920167edb8",
      "placeholder": "​",
      "style": "IPY_MODEL_1ec5ba0d01d348b6b362efaa47c29737",
      "tabbable": null,
      "tooltip": null,
      "value": "Downloading config.json: 100%"
     }
    },
    "d0f261910e974d53a6c878177056ee0d": {
     "model_module": "@jupyter-widgets/controls",
     "model_module_version": "2.0.0",
     "model_name": "HTMLStyleModel",
     "state": {
      "_model_module": "@jupyter-widgets/controls",
      "_model_module_version": "2.0.0",
      "_model_name": "HTMLStyleModel",
      "_view_count": null,
      "_view_module": "@jupyter-widgets/base",
      "_view_module_version": "2.0.0",
      "_view_name": "StyleView",
      "background": null,
      "description_width": "",
      "font_size": null,
      "text_color": null
     }
    },
    "d204d10fe9084a0198e0ce1abf00d26d": {
     "model_module": "@jupyter-widgets/base",
     "model_module_version": "2.0.0",
     "model_name": "LayoutModel",
     "state": {
      "_model_module": "@jupyter-widgets/base",
      "_model_module_version": "2.0.0",
      "_model_name": "LayoutModel",
      "_view_count": null,
      "_view_module": "@jupyter-widgets/base",
      "_view_module_version": "2.0.0",
      "_view_name": "LayoutView",
      "align_content": null,
      "align_items": null,
      "align_self": null,
      "border_bottom": null,
      "border_left": null,
      "border_right": null,
      "border_top": null,
      "bottom": null,
      "display": null,
      "flex": null,
      "flex_flow": null,
      "grid_area": null,
      "grid_auto_columns": null,
      "grid_auto_flow": null,
      "grid_auto_rows": null,
      "grid_column": null,
      "grid_gap": null,
      "grid_row": null,
      "grid_template_areas": null,
      "grid_template_columns": null,
      "grid_template_rows": null,
      "height": null,
      "justify_content": null,
      "justify_items": null,
      "left": null,
      "margin": null,
      "max_height": null,
      "max_width": null,
      "min_height": null,
      "min_width": null,
      "object_fit": null,
      "object_position": null,
      "order": null,
      "overflow": null,
      "padding": null,
      "right": null,
      "top": null,
      "visibility": null,
      "width": null
     }
    },
    "d6e51fc6ca134b2babd03d900bfc3763": {
     "model_module": "@jupyter-widgets/base",
     "model_module_version": "2.0.0",
     "model_name": "LayoutModel",
     "state": {
      "_model_module": "@jupyter-widgets/base",
      "_model_module_version": "2.0.0",
      "_model_name": "LayoutModel",
      "_view_count": null,
      "_view_module": "@jupyter-widgets/base",
      "_view_module_version": "2.0.0",
      "_view_name": "LayoutView",
      "align_content": null,
      "align_items": null,
      "align_self": null,
      "border_bottom": null,
      "border_left": null,
      "border_right": null,
      "border_top": null,
      "bottom": null,
      "display": null,
      "flex": null,
      "flex_flow": null,
      "grid_area": null,
      "grid_auto_columns": null,
      "grid_auto_flow": null,
      "grid_auto_rows": null,
      "grid_column": null,
      "grid_gap": null,
      "grid_row": null,
      "grid_template_areas": null,
      "grid_template_columns": null,
      "grid_template_rows": null,
      "height": null,
      "justify_content": null,
      "justify_items": null,
      "left": null,
      "margin": null,
      "max_height": null,
      "max_width": null,
      "min_height": null,
      "min_width": null,
      "object_fit": null,
      "object_position": null,
      "order": null,
      "overflow": null,
      "padding": null,
      "right": null,
      "top": null,
      "visibility": null,
      "width": null
     }
    },
    "d896098cd7104c69bdca8e676809ef02": {
     "model_module": "@jupyter-widgets/controls",
     "model_module_version": "2.0.0",
     "model_name": "HTMLModel",
     "state": {
      "_dom_classes": [],
      "_model_module": "@jupyter-widgets/controls",
      "_model_module_version": "2.0.0",
      "_model_name": "HTMLModel",
      "_view_count": null,
      "_view_module": "@jupyter-widgets/controls",
      "_view_module_version": "2.0.0",
      "_view_name": "HTMLView",
      "description": "",
      "description_allow_html": false,
      "layout": "IPY_MODEL_b27004fe582146e9b0a36297cf0e5a7f",
      "placeholder": "​",
      "style": "IPY_MODEL_d0f261910e974d53a6c878177056ee0d",
      "tabbable": null,
      "tooltip": null,
      "value": "Downloading vocab.json: 100%"
     }
    },
    "dc2d2a8531f14d4892ea1ca10a1d7fd3": {
     "model_module": "@jupyter-widgets/controls",
     "model_module_version": "2.0.0",
     "model_name": "FloatProgressModel",
     "state": {
      "_dom_classes": [],
      "_model_module": "@jupyter-widgets/controls",
      "_model_module_version": "2.0.0",
      "_model_name": "FloatProgressModel",
      "_view_count": null,
      "_view_module": "@jupyter-widgets/controls",
      "_view_module_version": "2.0.0",
      "_view_name": "ProgressView",
      "bar_style": "success",
      "description": "",
      "description_allow_html": false,
      "layout": "IPY_MODEL_e4e9288e30ec4683ab8c084d52933ad2",
      "max": 1585,
      "min": 0,
      "orientation": "horizontal",
      "style": "IPY_MODEL_27b78ecafb864f77ac152ad732cf290a",
      "tabbable": null,
      "tooltip": null,
      "value": 1585
     }
    },
    "dfa654c7c6184bfd8f70011dd7934ca7": {
     "model_module": "@jupyter-widgets/controls",
     "model_module_version": "2.0.0",
     "model_name": "HTMLStyleModel",
     "state": {
      "_model_module": "@jupyter-widgets/controls",
      "_model_module_version": "2.0.0",
      "_model_name": "HTMLStyleModel",
      "_view_count": null,
      "_view_module": "@jupyter-widgets/base",
      "_view_module_version": "2.0.0",
      "_view_name": "StyleView",
      "background": null,
      "description_width": "",
      "font_size": null,
      "text_color": null
     }
    },
    "dfbb48a257934c00b4bb4a1e53923055": {
     "model_module": "@jupyter-widgets/base",
     "model_module_version": "2.0.0",
     "model_name": "LayoutModel",
     "state": {
      "_model_module": "@jupyter-widgets/base",
      "_model_module_version": "2.0.0",
      "_model_name": "LayoutModel",
      "_view_count": null,
      "_view_module": "@jupyter-widgets/base",
      "_view_module_version": "2.0.0",
      "_view_name": "LayoutView",
      "align_content": null,
      "align_items": null,
      "align_self": null,
      "border_bottom": null,
      "border_left": null,
      "border_right": null,
      "border_top": null,
      "bottom": null,
      "display": null,
      "flex": null,
      "flex_flow": null,
      "grid_area": null,
      "grid_auto_columns": null,
      "grid_auto_flow": null,
      "grid_auto_rows": null,
      "grid_column": null,
      "grid_gap": null,
      "grid_row": null,
      "grid_template_areas": null,
      "grid_template_columns": null,
      "grid_template_rows": null,
      "height": null,
      "justify_content": null,
      "justify_items": null,
      "left": null,
      "margin": null,
      "max_height": null,
      "max_width": null,
      "min_height": null,
      "min_width": null,
      "object_fit": null,
      "object_position": null,
      "order": null,
      "overflow": null,
      "padding": null,
      "right": null,
      "top": null,
      "visibility": null,
      "width": null
     }
    },
    "e1d54b2d0f184f048c6de85a2ead64d8": {
     "model_module": "@jupyter-widgets/base",
     "model_module_version": "2.0.0",
     "model_name": "LayoutModel",
     "state": {
      "_model_module": "@jupyter-widgets/base",
      "_model_module_version": "2.0.0",
      "_model_name": "LayoutModel",
      "_view_count": null,
      "_view_module": "@jupyter-widgets/base",
      "_view_module_version": "2.0.0",
      "_view_name": "LayoutView",
      "align_content": null,
      "align_items": null,
      "align_self": null,
      "border_bottom": null,
      "border_left": null,
      "border_right": null,
      "border_top": null,
      "bottom": null,
      "display": null,
      "flex": null,
      "flex_flow": null,
      "grid_area": null,
      "grid_auto_columns": null,
      "grid_auto_flow": null,
      "grid_auto_rows": null,
      "grid_column": null,
      "grid_gap": null,
      "grid_row": null,
      "grid_template_areas": null,
      "grid_template_columns": null,
      "grid_template_rows": null,
      "height": null,
      "justify_content": null,
      "justify_items": null,
      "left": null,
      "margin": null,
      "max_height": null,
      "max_width": null,
      "min_height": null,
      "min_width": null,
      "object_fit": null,
      "object_position": null,
      "order": null,
      "overflow": null,
      "padding": null,
      "right": null,
      "top": null,
      "visibility": null,
      "width": null
     }
    },
    "e4e9288e30ec4683ab8c084d52933ad2": {
     "model_module": "@jupyter-widgets/base",
     "model_module_version": "2.0.0",
     "model_name": "LayoutModel",
     "state": {
      "_model_module": "@jupyter-widgets/base",
      "_model_module_version": "2.0.0",
      "_model_name": "LayoutModel",
      "_view_count": null,
      "_view_module": "@jupyter-widgets/base",
      "_view_module_version": "2.0.0",
      "_view_name": "LayoutView",
      "align_content": null,
      "align_items": null,
      "align_self": null,
      "border_bottom": null,
      "border_left": null,
      "border_right": null,
      "border_top": null,
      "bottom": null,
      "display": null,
      "flex": null,
      "flex_flow": null,
      "grid_area": null,
      "grid_auto_columns": null,
      "grid_auto_flow": null,
      "grid_auto_rows": null,
      "grid_column": null,
      "grid_gap": null,
      "grid_row": null,
      "grid_template_areas": null,
      "grid_template_columns": null,
      "grid_template_rows": null,
      "height": null,
      "justify_content": null,
      "justify_items": null,
      "left": null,
      "margin": null,
      "max_height": null,
      "max_width": null,
      "min_height": null,
      "min_width": null,
      "object_fit": null,
      "object_position": null,
      "order": null,
      "overflow": null,
      "padding": null,
      "right": null,
      "top": null,
      "visibility": null,
      "width": null
     }
    },
    "e75405a14d3e482f87c198bc9bdc9414": {
     "model_module": "@jupyter-widgets/base",
     "model_module_version": "2.0.0",
     "model_name": "LayoutModel",
     "state": {
      "_model_module": "@jupyter-widgets/base",
      "_model_module_version": "2.0.0",
      "_model_name": "LayoutModel",
      "_view_count": null,
      "_view_module": "@jupyter-widgets/base",
      "_view_module_version": "2.0.0",
      "_view_name": "LayoutView",
      "align_content": null,
      "align_items": null,
      "align_self": null,
      "border_bottom": null,
      "border_left": null,
      "border_right": null,
      "border_top": null,
      "bottom": null,
      "display": null,
      "flex": null,
      "flex_flow": null,
      "grid_area": null,
      "grid_auto_columns": null,
      "grid_auto_flow": null,
      "grid_auto_rows": null,
      "grid_column": null,
      "grid_gap": null,
      "grid_row": null,
      "grid_template_areas": null,
      "grid_template_columns": null,
      "grid_template_rows": null,
      "height": null,
      "justify_content": null,
      "justify_items": null,
      "left": null,
      "margin": null,
      "max_height": null,
      "max_width": null,
      "min_height": null,
      "min_width": null,
      "object_fit": null,
      "object_position": null,
      "order": null,
      "overflow": null,
      "padding": null,
      "right": null,
      "top": null,
      "visibility": null,
      "width": null
     }
    },
    "eac4c8daef734cac80a13c574ae6db1d": {
     "model_module": "@jupyter-widgets/controls",
     "model_module_version": "2.0.0",
     "model_name": "HTMLStyleModel",
     "state": {
      "_model_module": "@jupyter-widgets/controls",
      "_model_module_version": "2.0.0",
      "_model_name": "HTMLStyleModel",
      "_view_count": null,
      "_view_module": "@jupyter-widgets/base",
      "_view_module_version": "2.0.0",
      "_view_name": "StyleView",
      "background": null,
      "description_width": "",
      "font_size": null,
      "text_color": null
     }
    },
    "ece27b2b71fe4ac882c69f9c62a76464": {
     "model_module": "@jupyter-widgets/base",
     "model_module_version": "2.0.0",
     "model_name": "LayoutModel",
     "state": {
      "_model_module": "@jupyter-widgets/base",
      "_model_module_version": "2.0.0",
      "_model_name": "LayoutModel",
      "_view_count": null,
      "_view_module": "@jupyter-widgets/base",
      "_view_module_version": "2.0.0",
      "_view_name": "LayoutView",
      "align_content": null,
      "align_items": null,
      "align_self": null,
      "border_bottom": null,
      "border_left": null,
      "border_right": null,
      "border_top": null,
      "bottom": null,
      "display": null,
      "flex": null,
      "flex_flow": null,
      "grid_area": null,
      "grid_auto_columns": null,
      "grid_auto_flow": null,
      "grid_auto_rows": null,
      "grid_column": null,
      "grid_gap": null,
      "grid_row": null,
      "grid_template_areas": null,
      "grid_template_columns": null,
      "grid_template_rows": null,
      "height": null,
      "justify_content": null,
      "justify_items": null,
      "left": null,
      "margin": null,
      "max_height": null,
      "max_width": null,
      "min_height": null,
      "min_width": null,
      "object_fit": null,
      "object_position": null,
      "order": null,
      "overflow": null,
      "padding": null,
      "right": null,
      "top": null,
      "visibility": null,
      "width": null
     }
    },
    "eceaf3fc5d5d4a23b7f2d534782bf809": {
     "model_module": "@jupyter-widgets/controls",
     "model_module_version": "2.0.0",
     "model_name": "HTMLStyleModel",
     "state": {
      "_model_module": "@jupyter-widgets/controls",
      "_model_module_version": "2.0.0",
      "_model_name": "HTMLStyleModel",
      "_view_count": null,
      "_view_module": "@jupyter-widgets/base",
      "_view_module_version": "2.0.0",
      "_view_name": "StyleView",
      "background": null,
      "description_width": "",
      "font_size": null,
      "text_color": null
     }
    },
    "f04f2f69c2bd47178f96539de7740133": {
     "model_module": "@jupyter-widgets/controls",
     "model_module_version": "2.0.0",
     "model_name": "HBoxModel",
     "state": {
      "_dom_classes": [],
      "_model_module": "@jupyter-widgets/controls",
      "_model_module_version": "2.0.0",
      "_model_name": "HBoxModel",
      "_view_count": null,
      "_view_module": "@jupyter-widgets/controls",
      "_view_module_version": "2.0.0",
      "_view_name": "HBoxView",
      "box_style": "",
      "children": [
       "IPY_MODEL_025cb29a1d6d43adaf8ab8448e4281d2",
       "IPY_MODEL_9b5c7ea77cde409ba6f2a60d44c7a273",
       "IPY_MODEL_6a4bc30a6e924d0b8dbb7bb040404e3a"
      ],
      "layout": "IPY_MODEL_5a273201f4fc47b8b94cabc7b1e03ea7",
      "tabbable": null,
      "tooltip": null
     }
    },
    "f2a031d4f35343d5af39f780670f71b0": {
     "model_module": "@jupyter-widgets/controls",
     "model_module_version": "2.0.0",
     "model_name": "HTMLModel",
     "state": {
      "_dom_classes": [],
      "_model_module": "@jupyter-widgets/controls",
      "_model_module_version": "2.0.0",
      "_model_name": "HTMLModel",
      "_view_count": null,
      "_view_module": "@jupyter-widgets/controls",
      "_view_module_version": "2.0.0",
      "_view_name": "HTMLView",
      "description": "",
      "description_allow_html": false,
      "layout": "IPY_MODEL_ece27b2b71fe4ac882c69f9c62a76464",
      "placeholder": "​",
      "style": "IPY_MODEL_621bd343ba9b4906bb2c5a625507ccb3",
      "tabbable": null,
      "tooltip": null,
      "value": " 878k/878k [00:00&lt;00:00, 10.9MB/s]"
     }
    },
    "f4870426291740a3823edfe192318bdb": {
     "model_module": "@jupyter-widgets/controls",
     "model_module_version": "2.0.0",
     "model_name": "ProgressStyleModel",
     "state": {
      "_model_module": "@jupyter-widgets/controls",
      "_model_module_version": "2.0.0",
      "_model_name": "ProgressStyleModel",
      "_view_count": null,
      "_view_module": "@jupyter-widgets/base",
      "_view_module_version": "2.0.0",
      "_view_name": "StyleView",
      "bar_color": null,
      "description_width": ""
     }
    },
    "f8778790f6e341579a9a38aa08e46867": {
     "model_module": "@jupyter-widgets/base",
     "model_module_version": "2.0.0",
     "model_name": "LayoutModel",
     "state": {
      "_model_module": "@jupyter-widgets/base",
      "_model_module_version": "2.0.0",
      "_model_name": "LayoutModel",
      "_view_count": null,
      "_view_module": "@jupyter-widgets/base",
      "_view_module_version": "2.0.0",
      "_view_name": "LayoutView",
      "align_content": null,
      "align_items": null,
      "align_self": null,
      "border_bottom": null,
      "border_left": null,
      "border_right": null,
      "border_top": null,
      "bottom": null,
      "display": null,
      "flex": null,
      "flex_flow": null,
      "grid_area": null,
      "grid_auto_columns": null,
      "grid_auto_flow": null,
      "grid_auto_rows": null,
      "grid_column": null,
      "grid_gap": null,
      "grid_row": null,
      "grid_template_areas": null,
      "grid_template_columns": null,
      "grid_template_rows": null,
      "height": null,
      "justify_content": null,
      "justify_items": null,
      "left": null,
      "margin": null,
      "max_height": null,
      "max_width": null,
      "min_height": null,
      "min_width": null,
      "object_fit": null,
      "object_position": null,
      "order": null,
      "overflow": null,
      "padding": null,
      "right": null,
      "top": null,
      "visibility": null,
      "width": null
     }
    },
    "faa7aca49f2544549c2e8ea67eda3401": {
     "model_module": "@jupyter-widgets/controls",
     "model_module_version": "2.0.0",
     "model_name": "FloatProgressModel",
     "state": {
      "_dom_classes": [],
      "_model_module": "@jupyter-widgets/controls",
      "_model_module_version": "2.0.0",
      "_model_name": "FloatProgressModel",
      "_view_count": null,
      "_view_module": "@jupyter-widgets/controls",
      "_view_module_version": "2.0.0",
      "_view_name": "ProgressView",
      "bar_style": "success",
      "description": "",
      "description_allow_html": false,
      "layout": "IPY_MODEL_173641529f904e67abade8b4c8e42230",
      "max": 1355863,
      "min": 0,
      "orientation": "horizontal",
      "style": "IPY_MODEL_29405d610e6443658b20c76394e39ec6",
      "tabbable": null,
      "tooltip": null,
      "value": 1355863
     }
    },
    "fdbfec08cdaf46379354af8a2a93735b": {
     "model_module": "@jupyter-widgets/controls",
     "model_module_version": "2.0.0",
     "model_name": "HTMLStyleModel",
     "state": {
      "_model_module": "@jupyter-widgets/controls",
      "_model_module_version": "2.0.0",
      "_model_name": "HTMLStyleModel",
      "_view_count": null,
      "_view_module": "@jupyter-widgets/base",
      "_view_module_version": "2.0.0",
      "_view_name": "StyleView",
      "background": null,
      "description_width": "",
      "font_size": null,
      "text_color": null
     }
    }
   }
  }
 },
 "nbformat": 4,
 "nbformat_minor": 1
}
